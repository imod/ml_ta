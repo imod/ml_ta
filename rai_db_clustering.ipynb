{
 "cells": [
  {
   "cell_type": "markdown",
   "metadata": {},
   "source": [
    "__The input file contains the following fields:__\n",
    "\n",
    "| Name    | Description |\n",
    "| -------- | ------- |\n",
    "| UID  | Unique ID of the owning application    |\n",
    "| DBType | Type of the Databse (MSSQL, MySQL, Oracle, DB2)     |\n",
    "| Instance    | The instance of the Ddtabase |\n",
    "| DBName | The name of the database |\n",
    "| Schema | The schema where the table os located in the database |\n",
    "| Table | The name of the table |\n",
    "| Column | The name of a single column |\n",
    "| ColumnType | The datatyp of the column |"
   ]
  },
  {
   "cell_type": "markdown",
   "metadata": {},
   "source": [
    "| DB | UID |    DBType | Instance |    DBName |      Schema |      Table |           Column |         ColumnType | \n",
    "| ----- | ----- |    ----- | ----- |    ----- |      ----- |      ----- |           ----- |         ----- | \n",
    "| __MSSQL__ | UID |    DBType | Instance |    DBName |      Schema |      Table |           Column |         ColumnType | \n",
    "| __Oracle__ | uid |   dbtype |   |           dbname |      owner |       table_name |      column_name |     data_type |\n",
    "| __MySQL__ | uid |    dbtype |    |          dbname |      owner |       table_name |      column_name |     data_type | "
   ]
  },
  {
   "cell_type": "code",
   "execution_count": 64,
   "metadata": {},
   "outputs": [
    {
     "name": "stderr",
     "output_type": "stream",
     "text": [
      "/opt/anaconda3/lib/python3.12/pty.py:95: DeprecationWarning: This process (pid=23860) is multi-threaded, use of forkpty() may lead to deadlocks in the child.\n",
      "  pid, fd = os.forkpty()\n"
     ]
    },
    {
     "name": "stdout",
     "output_type": "stream",
     "text": [
      "Requirement already satisfied: pyLDAvis in /opt/anaconda3/lib/python3.12/site-packages (3.4.1)\n",
      "Requirement already satisfied: numpy>=1.24.2 in /opt/anaconda3/lib/python3.12/site-packages (from pyLDAvis) (1.26.4)\n",
      "Requirement already satisfied: scipy in /opt/anaconda3/lib/python3.12/site-packages (from pyLDAvis) (1.13.1)\n",
      "Requirement already satisfied: pandas>=2.0.0 in /opt/anaconda3/lib/python3.12/site-packages (from pyLDAvis) (2.2.2)\n",
      "Requirement already satisfied: joblib>=1.2.0 in /opt/anaconda3/lib/python3.12/site-packages (from pyLDAvis) (1.4.2)\n",
      "Requirement already satisfied: jinja2 in /opt/anaconda3/lib/python3.12/site-packages (from pyLDAvis) (3.1.4)\n",
      "Requirement already satisfied: numexpr in /opt/anaconda3/lib/python3.12/site-packages (from pyLDAvis) (2.8.7)\n",
      "Requirement already satisfied: funcy in /opt/anaconda3/lib/python3.12/site-packages (from pyLDAvis) (2.0)\n",
      "Requirement already satisfied: scikit-learn>=1.0.0 in /opt/anaconda3/lib/python3.12/site-packages (from pyLDAvis) (1.5.1)\n",
      "Requirement already satisfied: gensim in /opt/anaconda3/lib/python3.12/site-packages (from pyLDAvis) (4.3.3)\n",
      "Requirement already satisfied: setuptools in /opt/anaconda3/lib/python3.12/site-packages (from pyLDAvis) (75.1.0)\n",
      "Requirement already satisfied: python-dateutil>=2.8.2 in /opt/anaconda3/lib/python3.12/site-packages (from pandas>=2.0.0->pyLDAvis) (2.9.0.post0)\n",
      "Requirement already satisfied: pytz>=2020.1 in /opt/anaconda3/lib/python3.12/site-packages (from pandas>=2.0.0->pyLDAvis) (2024.1)\n",
      "Requirement already satisfied: tzdata>=2022.7 in /opt/anaconda3/lib/python3.12/site-packages (from pandas>=2.0.0->pyLDAvis) (2023.3)\n",
      "Requirement already satisfied: threadpoolctl>=3.1.0 in /opt/anaconda3/lib/python3.12/site-packages (from scikit-learn>=1.0.0->pyLDAvis) (3.5.0)\n",
      "Requirement already satisfied: smart-open>=1.8.1 in /opt/anaconda3/lib/python3.12/site-packages (from gensim->pyLDAvis) (5.2.1)\n",
      "Requirement already satisfied: MarkupSafe>=2.0 in /opt/anaconda3/lib/python3.12/site-packages (from jinja2->pyLDAvis) (2.1.3)\n",
      "Requirement already satisfied: six>=1.5 in /opt/anaconda3/lib/python3.12/site-packages (from python-dateutil>=2.8.2->pandas>=2.0.0->pyLDAvis) (1.16.0)\n"
     ]
    }
   ],
   "source": [
    "!pip install pyLDAvis"
   ]
  },
  {
   "cell_type": "markdown",
   "metadata": {},
   "source": [
    "# Prepare the data\n",
    "\n",
    "we have metadata about MSSQL, Oracle and MySQL Instances in CSV compressed in ZIP files - these CSVs must be merged into the same structure"
   ]
  },
  {
   "cell_type": "code",
   "execution_count": 65,
   "metadata": {},
   "outputs": [
    {
     "name": "stdout",
     "output_type": "stream",
     "text": [
      "zsh:1: no matches found: data/*.csv\n"
     ]
    },
    {
     "name": "stderr",
     "output_type": "stream",
     "text": [
      "/opt/anaconda3/lib/python3.12/pty.py:95: DeprecationWarning: This process (pid=23860) is multi-threaded, use of forkpty() may lead to deadlocks in the child.\n",
      "  pid, fd = os.forkpty()\n"
     ]
    },
    {
     "name": "stdout",
     "output_type": "stream",
     "text": [
      "Archive:  data/mssql_allprod_collumns.zip\n",
      "  inflating: data/mssql_allprod_collumns.csv  "
     ]
    },
    {
     "name": "stderr",
     "output_type": "stream",
     "text": [
      "/opt/anaconda3/lib/python3.12/pty.py:95: DeprecationWarning: This process (pid=23860) is multi-threaded, use of forkpty() may lead to deadlocks in the child.\n",
      "  pid, fd = os.forkpty()\n"
     ]
    },
    {
     "name": "stdout",
     "output_type": "stream",
     "text": [
      "\n",
      "Archive:  data/oracle_metadata.zip\n",
      "  inflating: data/oracle_metadata.csv  "
     ]
    },
    {
     "name": "stderr",
     "output_type": "stream",
     "text": [
      "/opt/anaconda3/lib/python3.12/pty.py:95: DeprecationWarning: This process (pid=23860) is multi-threaded, use of forkpty() may lead to deadlocks in the child.\n",
      "  pid, fd = os.forkpty()\n"
     ]
    },
    {
     "name": "stdout",
     "output_type": "stream",
     "text": [
      "\n",
      "Archive:  data/mysql_metadata.zip\n",
      "  inflating: data/mysql_metadata.csv  \n"
     ]
    },
    {
     "name": "stderr",
     "output_type": "stream",
     "text": [
      "/opt/anaconda3/lib/python3.12/pty.py:95: DeprecationWarning: This process (pid=23860) is multi-threaded, use of forkpty() may lead to deadlocks in the child.\n",
      "  pid, fd = os.forkpty()\n"
     ]
    }
   ],
   "source": [
    "# remove the existing data files\n",
    "!rm -f data/*.csv  \n",
    "\n",
    "# unzip the data files avialable\n",
    "!unzip -o data/mssql_allprod_collumns.zip -d data/\n",
    "!unzip -o data/oracle_metadata.zip -d data/\n",
    "!unzip -o data/mysql_metadata.zip -d data/"
   ]
  },
  {
   "cell_type": "code",
   "execution_count": 66,
   "metadata": {},
   "outputs": [
    {
     "name": "stdout",
     "output_type": "stream",
     "text": [
      "UID,DBType,Instance,DBName,Schema,Table,Column,ColumnType\n",
      "30230,MSSQL,R0015702\\RCHSCOMP02,OperationsManagerDW,State,StateHourly_D461F6AFA87B4259B908B29DA01EDE5C,InRedStateMilliseconds,int\n",
      "30230,MSSQL,R0015702\\RCHSCOMP02,OperationsManagerDW,State,StateHourly_D461F6AFA87B4259B908B29DA01EDE5C,InYellowStateMilliseconds,int\n",
      "The file data/mssql_allprod_collumns.csv has been processed and saved as data/mssql_allprod_collumns_no_third_column.csv\n",
      "The file data/mssql_allprod_collumns.csv has been processed, the third column has been removed:\n",
      "﻿UID,DBType,DBName,Schema,Table,Column,ColumnType\n",
      "30230,MSSQL,OperationsManagerDW,State,StateHourly_D461F6AFA87B4259B908B29DA01EDE5C,InRedStateMilliseconds,int\n",
      "30230,MSSQL,OperationsManagerDW,State,StateHourly_D461F6AFA87B4259B908B29DA01EDE5C,InYellowStateMilliseconds,int\n"
     ]
    }
   ],
   "source": [
    "%%bash\n",
    "# Prepare MSSQL data\n",
    "\n",
    "INPUT_FILE=\"data/mssql_allprod_collumns.csv\"\n",
    "OUTPUT_FILE=\"data/mssql_allprod_collumns_no_third_column.csv.tmp\"\n",
    "\n",
    "head -3 $INPUT_FILE\n",
    "\n",
    "# because the column separator is ',', we need to make sure e.g. `numeric(17,10)` is replaced with `numeric(17;10)` in the csv file\n",
    "sed -E 's/\\(([^)]*),([^)]*)\\)/(\\1;\\2)/g' ${INPUT_FILE} > ${OUTPUT_FILE}\n",
    "echo \"The file ${INPUT_FILE} has been processed and saved as ${OUTPUT_FILE}\"\n",
    "\n",
    "# dropo the third column ('Instance') from the csv file (it does not exist in the other files)\n",
    "# Use awk to drop the third column\n",
    "awk -F, 'BEGIN {OFS=\",\"} { $3=\"\"; sub(\",,\", \",\"); print }' ${OUTPUT_FILE} > ${INPUT_FILE}\n",
    "\n",
    "rm ${OUTPUT_FILE}\n",
    "\n",
    "echo \"The file ${INPUT_FILE} has been processed, the third column has been removed:\"\n",
    "head -3 $INPUT_FILE"
   ]
  },
  {
   "cell_type": "code",
   "execution_count": 70,
   "metadata": {},
   "outputs": [
    {
     "name": "stdout",
     "output_type": "stream",
     "text": [
      "Creating a small dataset 500 records of each files\n",
      "new dataset contains     1500 data/small.csv\n"
     ]
    }
   ],
   "source": [
    "%%bash\n",
    "# create a small dataset for testing\n",
    "# number of records in a small dataset \n",
    "NR_OF_RECORDS_EACH=500\n",
    "echo \"Creating a small dataset ${NR_OF_RECORDS_EACH} records of each files\"\n",
    "\n",
    "head -${NR_OF_RECORDS_EACH} data/mssql_allprod_collumns.csv  >  data/small.csv\n",
    "head -${NR_OF_RECORDS_EACH} data/oracle_metadata.csv         >> data/small.csv\n",
    "head -${NR_OF_RECORDS_EACH} data/mysql_metadata.csv         >> data/small.csv\n",
    "\n",
    "NR_OF_LINES=$(wc -l data/small.csv)\n",
    "echo \"new dataset contains ${NR_OF_LINES}\""
   ]
  },
  {
   "cell_type": "code",
   "execution_count": 72,
   "metadata": {},
   "outputs": [],
   "source": [
    "# Importing the required libraries\n",
    "import pandas as pd\n",
    "from sklearn.feature_extraction.text import TfidfVectorizer\n",
    "from sklearn.cluster import KMeans\n",
    "from sklearn.pipeline import Pipeline\n",
    "from sklearn.preprocessing import StandardScaler\n",
    "from sklearn.decomposition import LatentDirichletAllocation\n",
    "import wordninja"
   ]
  },
  {
   "cell_type": "code",
   "execution_count": 73,
   "metadata": {},
   "outputs": [
    {
     "data": {
      "text/html": [
       "<div>\n",
       "<style scoped>\n",
       "    .dataframe tbody tr th:only-of-type {\n",
       "        vertical-align: middle;\n",
       "    }\n",
       "\n",
       "    .dataframe tbody tr th {\n",
       "        vertical-align: top;\n",
       "    }\n",
       "\n",
       "    .dataframe thead th {\n",
       "        text-align: right;\n",
       "    }\n",
       "</style>\n",
       "<table border=\"1\" class=\"dataframe\">\n",
       "  <thead>\n",
       "    <tr style=\"text-align: right;\">\n",
       "      <th></th>\n",
       "      <th>UID</th>\n",
       "      <th>DBType</th>\n",
       "      <th>DBName</th>\n",
       "      <th>Schema</th>\n",
       "      <th>Table</th>\n",
       "      <th>Column</th>\n",
       "      <th>ColumnType</th>\n",
       "    </tr>\n",
       "  </thead>\n",
       "  <tbody>\n",
       "    <tr>\n",
       "      <th>0</th>\n",
       "      <td>30230</td>\n",
       "      <td>MSSQL</td>\n",
       "      <td>OperationsManagerDW</td>\n",
       "      <td>State</td>\n",
       "      <td>StateHourly_D461F6AFA87B4259B908B29DA01EDE5C</td>\n",
       "      <td>InRedStateMilliseconds</td>\n",
       "      <td>int</td>\n",
       "    </tr>\n",
       "    <tr>\n",
       "      <th>1</th>\n",
       "      <td>30230</td>\n",
       "      <td>MSSQL</td>\n",
       "      <td>OperationsManagerDW</td>\n",
       "      <td>State</td>\n",
       "      <td>StateHourly_D461F6AFA87B4259B908B29DA01EDE5C</td>\n",
       "      <td>InYellowStateMilliseconds</td>\n",
       "      <td>int</td>\n",
       "    </tr>\n",
       "    <tr>\n",
       "      <th>2</th>\n",
       "      <td>30230</td>\n",
       "      <td>MSSQL</td>\n",
       "      <td>OperationsManagerDW</td>\n",
       "      <td>State</td>\n",
       "      <td>StateHourly_D461F6AFA87B4259B908B29DA01EDE5C</td>\n",
       "      <td>InDisabledStateMilliseconds</td>\n",
       "      <td>int</td>\n",
       "    </tr>\n",
       "    <tr>\n",
       "      <th>3</th>\n",
       "      <td>30230</td>\n",
       "      <td>MSSQL</td>\n",
       "      <td>OperationsManagerDW</td>\n",
       "      <td>State</td>\n",
       "      <td>StateHourly_D461F6AFA87B4259B908B29DA01EDE5C</td>\n",
       "      <td>InPlannedMaintenanceMilliseconds</td>\n",
       "      <td>int</td>\n",
       "    </tr>\n",
       "    <tr>\n",
       "      <th>4</th>\n",
       "      <td>30230</td>\n",
       "      <td>MSSQL</td>\n",
       "      <td>OperationsManagerDW</td>\n",
       "      <td>State</td>\n",
       "      <td>StateHourly_D461F6AFA87B4259B908B29DA01EDE5C</td>\n",
       "      <td>InUnplannedMaintenanceMilliseconds</td>\n",
       "      <td>int</td>\n",
       "    </tr>\n",
       "  </tbody>\n",
       "</table>\n",
       "</div>"
      ],
      "text/plain": [
       "     UID DBType               DBName Schema  \\\n",
       "0  30230  MSSQL  OperationsManagerDW  State   \n",
       "1  30230  MSSQL  OperationsManagerDW  State   \n",
       "2  30230  MSSQL  OperationsManagerDW  State   \n",
       "3  30230  MSSQL  OperationsManagerDW  State   \n",
       "4  30230  MSSQL  OperationsManagerDW  State   \n",
       "\n",
       "                                          Table  \\\n",
       "0  StateHourly_D461F6AFA87B4259B908B29DA01EDE5C   \n",
       "1  StateHourly_D461F6AFA87B4259B908B29DA01EDE5C   \n",
       "2  StateHourly_D461F6AFA87B4259B908B29DA01EDE5C   \n",
       "3  StateHourly_D461F6AFA87B4259B908B29DA01EDE5C   \n",
       "4  StateHourly_D461F6AFA87B4259B908B29DA01EDE5C   \n",
       "\n",
       "                               Column ColumnType  \n",
       "0              InRedStateMilliseconds        int  \n",
       "1           InYellowStateMilliseconds        int  \n",
       "2         InDisabledStateMilliseconds        int  \n",
       "3    InPlannedMaintenanceMilliseconds        int  \n",
       "4  InUnplannedMaintenanceMilliseconds        int  "
      ]
     },
     "metadata": {},
     "output_type": "display_data"
    }
   ],
   "source": [
    "# Load the data\n",
    "# df = pd.read_csv('data/rai_allprod_collumns_clean.csv')\n",
    "df = pd.read_csv('data/small.csv')\n",
    "display(df.head())"
   ]
  },
  {
   "cell_type": "markdown",
   "metadata": {},
   "source": [
    "### Prepare the data"
   ]
  },
  {
   "cell_type": "code",
   "execution_count": 74,
   "metadata": {},
   "outputs": [],
   "source": [
    "# split the column names into words\n",
    "df['document_content'] = df['Column'].apply(\n",
    "    lambda x: ' '.join(wordninja.split(x))\n",
    ")\n",
    "\n",
    "# Concatenate 'Column' values for rows with the same 'DBName'/'Table' combination\n",
    "df_grouped = df.groupby(['DBName', 'Table'])['document_content'].agg(\n",
    "    lambda x: ' '.join(x)\n",
    ").reset_index()\n"
   ]
  },
  {
   "cell_type": "markdown",
   "metadata": {},
   "source": [
    "### Calculate TF-IDF"
   ]
  },
  {
   "cell_type": "code",
   "execution_count": 75,
   "metadata": {},
   "outputs": [
    {
     "name": "stdout",
     "output_type": "stream",
     "text": [
      "(166, 171)\n"
     ]
    }
   ],
   "source": [
    "vectorizer = TfidfVectorizer(stop_words='english', min_df=3, max_df=0.75, max_features=5000)\n",
    "doc_term_matrix = vectorizer.fit_transform(df_grouped['document_content'])\n",
    "\n",
    "print(doc_term_matrix.shape)"
   ]
  },
  {
   "cell_type": "code",
   "execution_count": 76,
   "metadata": {},
   "outputs": [
    {
     "data": {
      "text/html": [
       "<div>\n",
       "<style scoped>\n",
       "    .dataframe tbody tr th:only-of-type {\n",
       "        vertical-align: middle;\n",
       "    }\n",
       "\n",
       "    .dataframe tbody tr th {\n",
       "        vertical-align: top;\n",
       "    }\n",
       "\n",
       "    .dataframe thead th {\n",
       "        text-align: right;\n",
       "    }\n",
       "</style>\n",
       "<table border=\"1\" class=\"dataframe\">\n",
       "  <thead>\n",
       "    <tr style=\"text-align: right;\">\n",
       "      <th></th>\n",
       "      <th>Cluster0</th>\n",
       "      <th>Cluster1</th>\n",
       "      <th>Cluster2</th>\n",
       "      <th>Cluster3</th>\n",
       "      <th>Cluster4</th>\n",
       "    </tr>\n",
       "  </thead>\n",
       "  <tbody>\n",
       "    <tr>\n",
       "      <th>0</th>\n",
       "      <td>0.796470</td>\n",
       "      <td>0.050714</td>\n",
       "      <td>0.051286</td>\n",
       "      <td>0.050785</td>\n",
       "      <td>0.050746</td>\n",
       "    </tr>\n",
       "    <tr>\n",
       "      <th>1</th>\n",
       "      <td>0.804535</td>\n",
       "      <td>0.048729</td>\n",
       "      <td>0.049145</td>\n",
       "      <td>0.048757</td>\n",
       "      <td>0.048835</td>\n",
       "    </tr>\n",
       "    <tr>\n",
       "      <th>2</th>\n",
       "      <td>0.724749</td>\n",
       "      <td>0.068389</td>\n",
       "      <td>0.069674</td>\n",
       "      <td>0.068680</td>\n",
       "      <td>0.068509</td>\n",
       "    </tr>\n",
       "    <tr>\n",
       "      <th>3</th>\n",
       "      <td>0.784835</td>\n",
       "      <td>0.053653</td>\n",
       "      <td>0.054063</td>\n",
       "      <td>0.053757</td>\n",
       "      <td>0.053692</td>\n",
       "    </tr>\n",
       "    <tr>\n",
       "      <th>4</th>\n",
       "      <td>0.039555</td>\n",
       "      <td>0.038482</td>\n",
       "      <td>0.060669</td>\n",
       "      <td>0.039879</td>\n",
       "      <td>0.821415</td>\n",
       "    </tr>\n",
       "  </tbody>\n",
       "</table>\n",
       "</div>"
      ],
      "text/plain": [
       "   Cluster0  Cluster1  Cluster2  Cluster3  Cluster4\n",
       "0  0.796470  0.050714  0.051286  0.050785  0.050746\n",
       "1  0.804535  0.048729  0.049145  0.048757  0.048835\n",
       "2  0.724749  0.068389  0.069674  0.068680  0.068509\n",
       "3  0.784835  0.053653  0.054063  0.053757  0.053692\n",
       "4  0.039555  0.038482  0.060669  0.039879  0.821415"
      ]
     },
     "metadata": {},
     "output_type": "display_data"
    }
   ],
   "source": [
    "num_clusters = 5\n",
    "\n",
    "lda = LatentDirichletAllocation(n_components=num_clusters, learning_method='online', random_state=42)\n",
    "doc_cluster_matrix = lda.fit_transform(doc_term_matrix)\n",
    "\n",
    "col_names = ['Cluster' + str(i) for i in range(num_clusters)]\n",
    "\n",
    "doc_cluster_df = pd.DataFrame(doc_cluster_matrix, columns=col_names)\n",
    "display(doc_cluster_df.head()) \n"
   ]
  },
  {
   "cell_type": "code",
   "execution_count": 77,
   "metadata": {},
   "outputs": [
    {
     "name": "stdout",
     "output_type": "stream",
     "text": [
      "\n",
      "Cluster 0:\n",
      "data 4.373261581563654\n",
      "time 4.32926849158901\n",
      "type 3.716002560949461\n",
      "succeeded 3.287584665371378\n",
      "row 2.9848338610709866\n",
      "jobs 2.801548001142801\n",
      "event 2.553780992065522\n",
      "total 2.533578081878062\n",
      "modified 2.5184782791357985\n",
      "delete 2.428792609436719\n",
      "\n",
      "Cluster 1:\n",
      "fk 6.4726655849085795\n",
      "ich 4.26023530585384\n",
      "zu 4.256642947415969\n",
      "itz 3.0917644103234903\n",
      "hoe 3.002772219166134\n",
      "iv 2.40449201419941\n",
      "code 2.1916238595668496\n",
      "nun 2.18617858966092\n",
      "kt 2.151880502052191\n",
      "ch 2.1424925104366315\n",
      "\n",
      "Cluster 2:\n",
      "modified 16.79903254540457\n",
      "created 16.329484336333245\n",
      "date 11.0445368581387\n",
      "active 8.945216308658537\n",
      "version 8.3975943832049\n",
      "gui 4.794360100594631\n",
      "status 4.592994812184231\n",
      "rahm 3.8264100148628097\n",
      "trag 3.8174242225616766\n",
      "enver 3.812699992656919\n",
      "\n",
      "Cluster 3:\n",
      "milliseconds 7.263341550176597\n",
      "state 6.03666533888095\n",
      "maintenance 2.622784492898246\n",
      "health 2.483902488324434\n",
      "lifecycle 2.2798400067722557\n",
      "row 1.8545351197254898\n",
      "01 1.729496376457224\n",
      "ich 1.5730823600268196\n",
      "act 1.5001234201232843\n",
      "disabled 1.440811122078443\n",
      "\n",
      "Cluster 4:\n",
      "installed 5.414363911948588\n",
      "job 5.09736927160352\n",
      "ched 2.999367026877329\n",
      "script 2.9780223171966878\n",
      "trigger 2.972659787884183\n",
      "row 2.714311475493163\n",
      "created 2.5667766638792937\n",
      "value 2.5370219389365776\n",
      "time 2.2590174093012214\n",
      "version 2.11236406655048\n"
     ]
    }
   ],
   "source": [
    "# Display the top words for each cluster\n",
    "num_words = 10\n",
    "\n",
    "for cluster, words in enumerate(lda.components_):\n",
    "    word_total = words.sum()\n",
    "    sorted_words = words.argsort()[::-1]\n",
    "    print()\n",
    "    print(f'Cluster {cluster}:')\n",
    "    for i in range(0, num_words):\n",
    "        word = vectorizer.get_feature_names_out()[sorted_words[i]]\n",
    "        word_wight = words[sorted_words[i]]\n",
    "        print(f'{word} {word_wight}')"
   ]
  },
  {
   "cell_type": "code",
   "execution_count": 80,
   "metadata": {},
   "outputs": [
    {
     "name": "stdout",
     "output_type": "stream",
     "text": [
      "Topic1\n",
      "['data' 'time' 'type' 'succeeded' 'row' 'jobs' 'event' 'total' 'modified'\n",
      " 'delete' 'source' 'date' 'process' 'memory' 'client' 'avg' 'events'\n",
      " 'aggregation' 'num' 'currency' 'partner' 'valid' 'deleted' 'app' 'xml'\n",
      " 'dt' 'version' 'cpu' 'level' 'size']\n",
      "\n",
      "Topic2\n",
      "['fk' 'ich' 'zu' 'itz' 'hoe' 'iv' 'code' 'nun' 'kt' 'ch' 'ze' 'en' 'ver'\n",
      " 'rei' 'bung' 'sch' 'le' 'sprache' 'red' 'kon' 'status' 'vor' 'jah'\n",
      " 'created' 'nach' 'von' 'parent' 'material' 'act' 'fs']\n",
      "\n",
      "Topic3\n",
      "['modified' 'created' 'date' 'active' 'version' 'gui' 'status' 'rahm'\n",
      " 'trag' 'enver' 'nun' 'datum' 'ze' 'ty' 'content' 'fr' 'ich' 'rungs'\n",
      " 'iche' 'vers' 'media' 'xml' 'filename' 'mer' 'partner' 'file' 'data'\n",
      " 'art' 'nr' 'size']\n",
      "\n",
      "Topic4\n",
      "['milliseconds' 'state' 'maintenance' 'health' 'lifecycle' 'row' '01'\n",
      " 'ich' 'act' 'disabled' 'planned' 'yellow' 'unplanned' 'red' 'sp'\n",
      " 'service' 'end' 'unavailable' 'monitor' 'interval' 'entity' 'managed'\n",
      " '03' 'hourly' 'user' 'date' 'time' 'corre' 'object' '02']\n",
      "\n",
      "Topic5\n",
      "['installed' 'job' 'ched' 'script' 'trigger' 'row' 'created' 'value'\n",
      " 'time' 'version' 'event' 'group' 'owner' 'dec' 'description' 'managed'\n",
      " 'entity' 'rank' 'success' 'checksum' 'type' 'execution' 'rule' 'database'\n",
      " 'mailbox' 'gui' 'received' 'level' 'instance' 'backup']\n",
      "\n",
      "Panel saved to panel.html\n"
     ]
    }
   ],
   "source": [
    "#Visualize and analyze reuslts\n",
    "import pyLDAvis\n",
    "import pyLDAvis.lda_model\n",
    "\n",
    "\n",
    "panel = pyLDAvis.lda_model.prepare(lda, doc_term_matrix, vectorizer, mds='tsne', sort_topics=False, n_jobs = -1)\n",
    "word_info = panel.topic_info\n",
    "\n",
    "\n",
    "#Print top 30 keywords\n",
    "for topic in word_info.loc[word_info.Category != 'Default'].Category.unique():\n",
    "    print(topic)\n",
    "    print(word_info.loc[word_info.Category.isin([topic])].sort_values('logprob', ascending = False).Term.values[:30])\n",
    "    print()\n",
    "\n",
    "#To save panel in html (using https://panel.holoviz.org/)\n",
    "pyLDAvis.save_html(panel, 'panel.html')\n",
    "print(\"Panel saved to panel.html\")"
   ]
  },
  {
   "cell_type": "code",
   "execution_count": 46,
   "metadata": {},
   "outputs": [],
   "source": [
    "# prepare data\n",
    "df['Column'] = df['Column'].str.lower()\n",
    "df = df[df['Column'].notna() & (df['Column'].str.strip() != '')]\n",
    "df['Table'] = df['Table'].str.lower()\n",
    "\n",
    "# Concatenate Schema and DBName columns\n",
    "df['DBName_Schema'] = df['Schema'] + '_' + df['DBName']"
   ]
  },
  {
   "cell_type": "code",
   "execution_count": 47,
   "metadata": {},
   "outputs": [
    {
     "name": "stdout",
     "output_type": "stream",
     "text": [
      "<class 'pandas.core.frame.DataFrame'>\n",
      "RangeIndex: 1499 entries, 0 to 1498\n",
      "Data columns (total 10 columns):\n",
      " #   Column            Non-Null Count  Dtype \n",
      "---  ------            --------------  ----- \n",
      " 0   UID               1499 non-null   object\n",
      " 1   DBType            1499 non-null   object\n",
      " 2   Instance          1499 non-null   object\n",
      " 3   DBName            1499 non-null   object\n",
      " 4   Schema            1499 non-null   object\n",
      " 5   Table             1499 non-null   object\n",
      " 6   Column            1499 non-null   object\n",
      " 7   ColumnType        499 non-null    object\n",
      " 8   document_content  1499 non-null   object\n",
      " 9   DBName_Schema     1499 non-null   object\n",
      "dtypes: object(10)\n",
      "memory usage: 117.2+ KB\n",
      "None\n",
      "UID                    0\n",
      "DBType                 0\n",
      "Instance               0\n",
      "DBName                 0\n",
      "Schema                 0\n",
      "Table                  0\n",
      "Column                 0\n",
      "ColumnType          1000\n",
      "document_content       0\n",
      "DBName_Schema          0\n",
      "dtype: int64\n"
     ]
    }
   ],
   "source": [
    "# display(dFrame.head(5))\n",
    "# print(dFrame.describe())\n",
    "print(df.info())\n",
    "print(df.isnull().sum())\n",
    "# print(df.sum())"
   ]
  },
  {
   "cell_type": "code",
   "execution_count": 48,
   "metadata": {},
   "outputs": [
    {
     "name": "stdout",
     "output_type": "stream",
     "text": [
      "DBName_Schema\n",
      "State_OperationsManagerDW                175\n",
      "dbo_OperationsManagerDW                   46\n",
      "ProcessMonitoring_OperationsManagerDW     45\n",
      "Alert_OperationsManagerDW                 42\n",
      "Vista_OperationsManagerDW                 35\n",
      "                                        ... \n",
      "hardware_bestandteile_pmyrb_web            2\n",
      "hardware_optionen_pmyrb_web                2\n",
      "table_name_owner                           2\n",
      "headset_optionen_pmyrb_web                 2\n",
      "ABA03_BASEFILE_OWN_NMAT_UAS                2\n",
      "Name: count, Length: 120, dtype: int64\n",
      "State_OperationsManagerDWState_OperationsManagerDWState_OperationsManagerDWState_OperationsManagerDWState_OperationsManagerDWState_OperationsManagerDWState_OperationsManagerDWWin7_OperationsManagerDWWin7_OperationsManagerDWWin7_OperationsManagerDWWin7_OperationsManagerDWWin7_OperationsManagerDWWin7_OperationsManagerDWState_OperationsManagerDWState_OperationsManagerDWState_OperationsManagerDWState_OperationsManagerDWState_OperationsManagerDWState_OperationsManagerDWState_OperationsManagerDWState_OperationsManagerDWState_OperationsManagerDWState_OperationsManagerDWapm_OperationsManagerDWapm_OperationsManagerDWapm_OperationsManagerDWapm_OperationsManagerDWapm_OperationsManagerDWapm_OperationsManagerDWVista_OperationsManagerDWVista_OperationsManagerDWVista_OperationsManagerDWVista_OperationsManagerDWVista_OperationsManagerDWVista_OperationsManagerDWExchange2010_OperationsManagerDWExchange2010_OperationsManagerDWExchange2010_OperationsManagerDWExchange2010_OperationsManagerDWExchange2010_OperationsManagerDWState_OperationsManagerDWState_OperationsManagerDWState_OperationsManagerDWState_OperationsManagerDWState_OperationsManagerDWState_OperationsManagerDWState_OperationsManagerDWState_OperationsManagerDWState_OperationsManagerDWState_OperationsManagerDWState_OperationsManagerDWState_OperationsManagerDWState_OperationsManagerDWState_OperationsManagerDWState_OperationsManagerDWState_OperationsManagerDWState_OperationsManagerDWState_OperationsManagerDWState_OperationsManagerDWState_OperationsManagerDWExchange2010_OperationsManagerDWExchange2010_OperationsManagerDWExchange2010_OperationsManagerDWExchange2010_OperationsManagerDWExchange2010_OperationsManagerDWExchange2010_OperationsManagerDWExchange2010_OperationsManagerDWExchange2010_OperationsManagerDWExchange2013_OperationsManagerDWExchange2013_OperationsManagerDWExchange2013_OperationsManagerDWExchange2013_OperationsManagerDWExchange2013_OperationsManagerDWExchange2013_OperationsManagerDWExchange2013_OperationsManagerDWExchange2013_OperationsManagerDWExchange2013_OperationsManagerDWExchange2013_OperationsManagerDWState_OperationsManagerDWState_OperationsManagerDWState_OperationsManagerDWState_OperationsManagerDWState_OperationsManagerDWState_OperationsManagerDWState_OperationsManagerDWState_OperationsManagerDWState_OperationsManagerDWState_OperationsManagerDWState_OperationsManagerDWState_OperationsManagerDWState_OperationsManagerDWState_OperationsManagerDWState_OperationsManagerDWState_OperationsManagerDWState_OperationsManagerDWState_OperationsManagerDWState_OperationsManagerDWState_OperationsManagerDWWin7_OperationsManagerDWWin7_OperationsManagerDWWin7_OperationsManagerDWWin7_OperationsManagerDWWin7_OperationsManagerDWWin7_OperationsManagerDWPerf_OperationsManagerDWPerf_OperationsManagerDWPerf_OperationsManagerDWPerf_OperationsManagerDWPerf_OperationsManagerDWPerf_OperationsManagerDWPerf_OperationsManagerDWPerf_OperationsManagerDWPerf_OperationsManagerDWProcessMonitoring_OperationsManagerDWProcessMonitoring_OperationsManagerDWProcessMonitoring_OperationsManagerDWProcessMonitoring_OperationsManagerDWProcessMonitoring_OperationsManagerDWProcessMonitoring_OperationsManagerDWProcessMonitoring_OperationsManagerDWProcessMonitoring_OperationsManagerDWProcessMonitoring_OperationsManagerDWProcessMonitoring_OperationsManagerDWProcessMonitoring_OperationsManagerDWProcessMonitoring_OperationsManagerDWProcessMonitoring_OperationsManagerDWProcessMonitoring_OperationsManagerDWProcessMonitoring_OperationsManagerDWProcessMonitoring_OperationsManagerDWProcessMonitoring_OperationsManagerDWAlert_OperationsManagerDWAlert_OperationsManagerDWAlert_OperationsManagerDWAlert_OperationsManagerDWAlert_OperationsManagerDWAlert_OperationsManagerDWAlert_OperationsManagerDWAlert_OperationsManagerDWAlert_OperationsManagerDWAlert_OperationsManagerDWAlert_OperationsManagerDWAlert_OperationsManagerDWAlert_OperationsManagerDWAlert_OperationsManagerDWAlert_OperationsManagerDWAlert_OperationsManagerDWAlert_OperationsManagerDWAlert_OperationsManagerDWAlert_OperationsManagerDWAlert_OperationsManagerDWAlert_OperationsManagerDWAlert_OperationsManagerDWAlert_OperationsManagerDWAlert_OperationsManagerDWAlert_OperationsManagerDWAlert_OperationsManagerDWAlert_OperationsManagerDWAlert_OperationsManagerDWAlert_OperationsManagerDWAlert_OperationsManagerDWAlert_OperationsManagerDWAlert_OperationsManagerDWAlert_OperationsManagerDWAlert_OperationsManagerDWAlert_OperationsManagerDWAlert_OperationsManagerDWAlert_OperationsManagerDWAlert_OperationsManagerDWAlert_OperationsManagerDWAlert_OperationsManagerDWAlert_OperationsManagerDWAlert_OperationsManagerDWVista_OperationsManagerDWVista_OperationsManagerDWVista_OperationsManagerDWVista_OperationsManagerDWVista_OperationsManagerDWVista_OperationsManagerDWExchange2010_OperationsManagerDWExchange2010_OperationsManagerDWExchange2010_OperationsManagerDWExchange2010_OperationsManagerDWExchange2010_OperationsManagerDWExchange2010_OperationsManagerDWExchange2010_OperationsManagerDWExchange2010_OperationsManagerDWExchange2010_OperationsManagerDWExchange2010_OperationsManagerDWState_OperationsManagerDWState_OperationsManagerDWState_OperationsManagerDWState_OperationsManagerDWState_OperationsManagerDWState_OperationsManagerDWState_OperationsManagerDWState_OperationsManagerDWState_OperationsManagerDWState_OperationsManagerDWState_OperationsManagerDWState_OperationsManagerDWState_OperationsManagerDWState_OperationsManagerDWState_OperationsManagerDWState_OperationsManagerDWState_OperationsManagerDWState_OperationsManagerDWState_OperationsManagerDWState_OperationsManagerDWExchange2013_OperationsManagerDWExchange2013_OperationsManagerDWExchange2013_OperationsManagerDWExchange2013_OperationsManagerDWExchange2013_OperationsManagerDWdbo_OperationsManagerDWdbo_OperationsManagerDWdbo_OperationsManagerDWdbo_OperationsManagerDWdbo_OperationsManagerDWdbo_OperationsManagerDWapm_OperationsManagerDWapm_OperationsManagerDWapm_OperationsManagerDWapm_OperationsManagerDWapm_OperationsManagerDWapm_OperationsManagerDWapm_OperationsManagerDWapm_OperationsManagerDWapm_OperationsManagerDWapm_OperationsManagerDWapm_OperationsManagerDWapm_OperationsManagerDWProcessMonitoring_OperationsManagerDWProcessMonitoring_OperationsManagerDWProcessMonitoring_OperationsManagerDWProcessMonitoring_OperationsManagerDWProcessMonitoring_OperationsManagerDWProcessMonitoring_OperationsManagerDWProcessMonitoring_OperationsManagerDWProcessMonitoring_OperationsManagerDWProcessMonitoring_OperationsManagerDWProcessMonitoring_OperationsManagerDWProcessMonitoring_OperationsManagerDWProcessMonitoring_OperationsManagerDWProcessMonitoring_OperationsManagerDWProcessMonitoring_OperationsManagerDWProcessMonitoring_OperationsManagerDWProcessMonitoring_OperationsManagerDWProcessMonitoring_OperationsManagerDWProcessMonitoring_OperationsManagerDWProcessMonitoring_OperationsManagerDWProcessMonitoring_OperationsManagerDWProcessMonitoring_OperationsManagerDWProcessMonitoring_OperationsManagerDWProcessMonitoring_OperationsManagerDWProcessMonitoring_OperationsManagerDWProcessMonitoring_OperationsManagerDWProcessMonitoring_OperationsManagerDWProcessMonitoring_OperationsManagerDWProcessMonitoring_OperationsManagerDWState_OperationsManagerDWState_OperationsManagerDWState_OperationsManagerDWState_OperationsManagerDWState_OperationsManagerDWState_OperationsManagerDWState_OperationsManagerDWState_OperationsManagerDWState_OperationsManagerDWState_OperationsManagerDWdbo_OperationsManagerDWdbo_OperationsManagerDWdbo_OperationsManagerDWdbo_OperationsManagerDWdbo_OperationsManagerDWVista_OperationsManagerDWVista_OperationsManagerDWVista_OperationsManagerDWVista_OperationsManagerDWState_OperationsManagerDWState_OperationsManagerDWState_OperationsManagerDWState_OperationsManagerDWState_OperationsManagerDWState_OperationsManagerDWState_OperationsManagerDWState_OperationsManagerDWState_OperationsManagerDWState_OperationsManagerDWWin7_OperationsManagerDWWin7_OperationsManagerDWWin7_OperationsManagerDWWin7_OperationsManagerDWWin7_OperationsManagerDWWin7_OperationsManagerDWdbo_OperationsManagerDWdbo_OperationsManagerDWdbo_OperationsManagerDWdbo_OperationsManagerDWdbo_OperationsManagerDWdbo_OperationsManagerDWdbo_OperationsManagerDWdbo_OperationsManagerDWdbo_OperationsManagerDWdbo_OperationsManagerDWdbo_OperationsManagerDWdbo_OperationsManagerDWdbo_OperationsManagerDWdbo_OperationsManagerDWVista_OperationsManagerDWVista_OperationsManagerDWVista_OperationsManagerDWVista_OperationsManagerDWVista_OperationsManagerDWVista_OperationsManagerDWExchange2013_OperationsManagerDWExchange2013_OperationsManagerDWExchange2013_OperationsManagerDWExchange2013_OperationsManagerDWExchange2013_OperationsManagerDWState_OperationsManagerDWState_OperationsManagerDWState_OperationsManagerDWState_OperationsManagerDWState_OperationsManagerDWState_OperationsManagerDWState_OperationsManagerDWState_OperationsManagerDWState_OperationsManagerDWState_OperationsManagerDWWin7_OperationsManagerDWWin7_OperationsManagerDWWin7_OperationsManagerDWWin7_OperationsManagerDWPerf_OperationsManagerDWPerf_OperationsManagerDWPerf_OperationsManagerDWPerf_OperationsManagerDWPerf_OperationsManagerDWPerf_OperationsManagerDWPerf_OperationsManagerDWPerf_OperationsManagerDWPerf_OperationsManagerDWapm_OperationsManagerDWapm_OperationsManagerDWapm_OperationsManagerDWapm_OperationsManagerDWapm_OperationsManagerDWdbo_OperationsManagerDWdbo_OperationsManagerDWVista_OperationsManagerDWVista_OperationsManagerDWVista_OperationsManagerDWVista_OperationsManagerDWVista_OperationsManagerDWVista_OperationsManagerDWState_OperationsManagerDWState_OperationsManagerDWState_OperationsManagerDWState_OperationsManagerDWState_OperationsManagerDWState_OperationsManagerDWState_OperationsManagerDWState_OperationsManagerDWState_OperationsManagerDWState_OperationsManagerDWState_OperationsManagerDWState_OperationsManagerDWState_OperationsManagerDWState_OperationsManagerDWState_OperationsManagerDWState_OperationsManagerDWState_OperationsManagerDWState_OperationsManagerDWState_OperationsManagerDWState_OperationsManagerDWState_OperationsManagerDWState_OperationsManagerDWState_OperationsManagerDWState_OperationsManagerDWState_OperationsManagerDWState_OperationsManagerDWState_OperationsManagerDWState_OperationsManagerDWState_OperationsManagerDWState_OperationsManagerDWWin7_OperationsManagerDWWin7_OperationsManagerDWWin7_OperationsManagerDWWin7_OperationsManagerDWWin7_OperationsManagerDWWin7_OperationsManagerDWdbo_OperationsManagerDWdbo_OperationsManagerDWdbo_OperationsManagerDWdbo_OperationsManagerDWdbo_OperationsManagerDWdbo_OperationsManagerDWdbo_OperationsManagerDWdbo_OperationsManagerDWdbo_OperationsManagerDWdbo_OperationsManagerDWdbo_OperationsManagerDWdbo_OperationsManagerDWdbo_OperationsManagerDWdbo_OperationsManagerDWdbo_OperationsManagerDWVista_OperationsManagerDWVista_OperationsManagerDWVista_OperationsManagerDWVista_OperationsManagerDWVista_OperationsManagerDWVista_OperationsManagerDWVista_OperationsManagerDWState_OperationsManagerDWState_OperationsManagerDWState_OperationsManagerDWState_OperationsManagerDWState_OperationsManagerDWState_OperationsManagerDWState_OperationsManagerDWState_OperationsManagerDWState_OperationsManagerDWState_OperationsManagerDWState_OperationsManagerDWState_OperationsManagerDWState_OperationsManagerDWState_OperationsManagerDWState_OperationsManagerDWState_OperationsManagerDWState_OperationsManagerDWState_OperationsManagerDWState_OperationsManagerDWState_OperationsManagerDWWin7_OperationsManagerDWWin7_OperationsManagerDWWin7_OperationsManagerDWWin7_OperationsManagerDWWin7_OperationsManagerDWWin7_OperationsManagerDWState_OperationsManagerDWState_OperationsManagerDWState_OperationsManagerDWState_OperationsManagerDWState_OperationsManagerDWState_OperationsManagerDWState_OperationsManagerDWState_OperationsManagerDWState_OperationsManagerDWState_OperationsManagerDWapm_OperationsManagerDWapm_OperationsManagerDWapm_OperationsManagerDWapm_OperationsManagerDWapm_OperationsManagerDWapm_OperationsManagerDWdbo_OperationsManagerDWdbo_OperationsManagerDWdbo_OperationsManagerDWdbo_OperationsManagerDWState_OperationsManagerDWState_OperationsManagerDWState_OperationsManagerDWState_OperationsManagerDWState_OperationsManagerDWState_OperationsManagerDWState_OperationsManagerDWState_OperationsManagerDWdbo_AMSDB_BGTdbo_AMSDB_BGTdbo_AMSDB_BGTdbo_AMSDB_BGTdbo_AMSDB_BGTdbo_AMSDB_BGTdbo_AMSDB_BGTdbo_AMSDB_BGTdbo_AMSDB_BGTdbo_AMSDB_BGTdbo_AMSDB_BGTdbo_AMSDB_BGTdbo_AMSDB_BGTdbo_AMSDB_BGTdbo_AMSDB_BGTdbo_AMSDB_BGTdbo_AMSDB_BGTdbo_AMSDB_BGTdbo_AMSDB_BGTdbo_AMSDB_BGTdbo_AMSDB_BGTdbo_AMSDB_BGTdbo_AMSDB_BGTdbo_AMSDB_BGTdbo_AMSDB_BGTdbo_AMSDB_BGTdbo_AMSDB_BGTdbo_AMSDB_BGTdbo_AMSDB_BGTdbo_AMSDB_BGTdbo_AMSDB_BGTdbo_AMSDB_BGTtable_name_ownerCMZKE_KUNDE_CM_ADMCMZKE_KUNDE_CM_ADMCMZKE_KUNDE_CM_ADMCMZKE_KUNDE_CM_ADMCMZKE_KUNDE_CM_ADMCMZKE_KUNDE_CM_ADMCMZKE_KUNDE_CM_ADMCMZKE_KUNDE_CM_ADMCMZKE_KUNDE_CM_ADMCMZKE_KUNDE_CM_ADMCMZKE_KUNDE_CM_ADMCMZKE_KUNDE_CM_ADMCMZKE_KUNDE_CM_ADMCMZKE_KUNDE_CM_ADMCMZKE_KUNDE_CM_ADMCMZKE_KUNDE_CM_ADMCMZKE_KUNDE_CM_ADMCMZKE_KUNDE_CM_ADMMANDANT_CM_ADMMANDANT_CM_ADMMANDANT_CM_ADMMANDANT_CM_ADMMANDANT_CM_ADMMASSEXPORT_CM_ADMMASSEXPORT_CM_ADMMASSEXPORT_CM_ADMMASSEXPORT_CM_ADMMASSEXPORT_CM_ADMMASSEXPORT_CM_ADMMASSEXPORT_CM_ADMMASSEXPORTDATA_CM_ADMMASSEXPORTDATA_CM_ADMMASSEXPORTDATA_CM_ADMMASSEXPORTDATA_CM_ADMMASSEXPORTDATA_CM_ADMMASSEXPORTDATA_CM_ADMMASSEXPORTDATA_CM_ADMMASSEXPORTDATA_CM_ADMPARTNERDELETED_CM_ADMPARTNERDELETED_CM_ADMPARTNERDELETED_CM_ADMPARTNERDELETED_CM_ADMPARTNERDELETED_CM_ADMPARTNERDELETED_CM_ADMPARTNERDELETED_CM_ADMPARTNERDELETED_CM_ADMPARTNERDELETED_CM_ADMQRTZ_BLOB_TRIGGERS_CM_ADMQRTZ_BLOB_TRIGGERS_CM_ADMQRTZ_BLOB_TRIGGERS_CM_ADMQRTZ_BLOB_TRIGGERS_CM_ADMQRTZ_CALENDARS_CM_ADMQRTZ_CALENDARS_CM_ADMQRTZ_CALENDARS_CM_ADMQRTZ_CRON_TRIGGERS_CM_ADMQRTZ_CRON_TRIGGERS_CM_ADMQRTZ_CRON_TRIGGERS_CM_ADMQRTZ_CRON_TRIGGERS_CM_ADMQRTZ_CRON_TRIGGERS_CM_ADMQRTZ_FIRED_TRIGGERS_CM_ADMQRTZ_FIRED_TRIGGERS_CM_ADMQRTZ_FIRED_TRIGGERS_CM_ADMQRTZ_FIRED_TRIGGERS_CM_ADMQRTZ_FIRED_TRIGGERS_CM_ADMQRTZ_FIRED_TRIGGERS_CM_ADMQRTZ_FIRED_TRIGGERS_CM_ADMQRTZ_FIRED_TRIGGERS_CM_ADMQRTZ_FIRED_TRIGGERS_CM_ADMQRTZ_FIRED_TRIGGERS_CM_ADMQRTZ_FIRED_TRIGGERS_CM_ADMQRTZ_FIRED_TRIGGERS_CM_ADMQRTZ_FIRED_TRIGGERS_CM_ADMQRTZ_JOB_DETAILS_CM_ADMQRTZ_JOB_DETAILS_CM_ADMQRTZ_JOB_DETAILS_CM_ADMQRTZ_JOB_DETAILS_CM_ADMQRTZ_JOB_DETAILS_CM_ADMQRTZ_JOB_DETAILS_CM_ADMQRTZ_JOB_DETAILS_CM_ADMQRTZ_JOB_DETAILS_CM_ADMQRTZ_JOB_DETAILS_CM_ADMQRTZ_JOB_DETAILS_CM_ADMQRTZ_LOCKS_CM_ADMQRTZ_LOCKS_CM_ADMQRTZ_PAUSED_TRIGGER_GRPS_CM_ADMQRTZ_PAUSED_TRIGGER_GRPS_CM_ADMQRTZ_SCHEDULER_STATE_CM_ADMQRTZ_SCHEDULER_STATE_CM_ADMQRTZ_SCHEDULER_STATE_CM_ADMQRTZ_SCHEDULER_STATE_CM_ADMQRTZ_SIMPLE_TRIGGERS_CM_ADMQRTZ_SIMPLE_TRIGGERS_CM_ADMQRTZ_SIMPLE_TRIGGERS_CM_ADMQRTZ_SIMPLE_TRIGGERS_CM_ADMQRTZ_SIMPLE_TRIGGERS_CM_ADMQRTZ_SIMPLE_TRIGGERS_CM_ADMQRTZ_SIMPROP_TRIGGERS_CM_ADMQRTZ_SIMPROP_TRIGGERS_CM_ADMQRTZ_SIMPROP_TRIGGERS_CM_ADMQRTZ_SIMPROP_TRIGGERS_CM_ADMQRTZ_SIMPROP_TRIGGERS_CM_ADMQRTZ_SIMPROP_TRIGGERS_CM_ADMQRTZ_SIMPROP_TRIGGERS_CM_ADMQRTZ_SIMPROP_TRIGGERS_CM_ADMQRTZ_SIMPROP_TRIGGERS_CM_ADMQRTZ_SIMPROP_TRIGGERS_CM_ADMQRTZ_SIMPROP_TRIGGERS_CM_ADMQRTZ_SIMPROP_TRIGGERS_CM_ADMQRTZ_SIMPROP_TRIGGERS_CM_ADMQRTZ_SIMPROP_TRIGGERS_CM_ADMQRTZ_TRIGGERS_CM_ADMQRTZ_TRIGGERS_CM_ADMQRTZ_TRIGGERS_CM_ADMQRTZ_TRIGGERS_CM_ADMQRTZ_TRIGGERS_CM_ADMQRTZ_TRIGGERS_CM_ADMQRTZ_TRIGGERS_CM_ADMQRTZ_TRIGGERS_CM_ADMQRTZ_TRIGGERS_CM_ADMQRTZ_TRIGGERS_CM_ADMQRTZ_TRIGGERS_CM_ADMQRTZ_TRIGGERS_CM_ADMQRTZ_TRIGGERS_CM_ADMQRTZ_TRIGGERS_CM_ADMQRTZ_TRIGGERS_CM_ADMQRTZ_TRIGGERS_CM_ADMTMP_KENNZAHL_CM_ADMTMP_KENNZAHL_CM_ADMTMP_KENNZAHL_CM_ADMTMP_KENNZAHL_CM_ADMTMP_KENNZAHL_CM_ADMTMP_KENNZAHL_CM_ADMTMP_KENNZAHL_CM_ADMTMP_KENNZAHL_CM_ADMTMP_KENNZAHL_CM_ADMADVISORYOUTPUT_2_CM_COREDATAADVISORYOUTPUT_2_CM_COREDATAADVISORYOUTPUT_2_CM_COREDATAADVISORYOUTPUT_2_CM_COREDATAADVISORYOUTPUT_2_CM_COREDATAADVISORYOUTPUT_2_CM_COREDATAADVISORYOUTPUT_2_CM_COREDATAADVISORYOUTPUT_2_CM_COREDATAADVISORYOUTPUT_2_CM_COREDATABAK_PRICING_2_CM_COREDATABAK_PRICING_2_CM_COREDATABAK_PRICING_2_CM_COREDATABAK_PRICING_2_CM_COREDATABAK_PRICING_2_CM_COREDATABAK_PRICING_2_CM_COREDATABAK_PRICING_2_CM_COREDATABAK_PRICING_2_CM_COREDATABAK_PRICING_2_CM_COREDATABAK_PRICING_2_CM_COREDATACREDITWORTHINESSINDICATORS_2_CM_COREDATACREDITWORTHINESSINDICATORS_2_CM_COREDATACREDITWORTHINESSINDICATORS_2_CM_COREDATACREDITWORTHINESSINDICATORS_2_CM_COREDATACREDITWORTHINESSINDICATORS_2_CM_COREDATACREDITWORTHINESSINDICATORS_2_CM_COREDATACREDITWORTHINESSINDICATORS_2_CM_COREDATADEBTCAPACITY_IFBC_2_CM_COREDATADEBTCAPACITY_IFBC_2_CM_COREDATADEBTCAPACITY_IFBC_2_CM_COREDATADEBTCAPACITY_IFBC_2_CM_COREDATADEBTCAPACITY_IFBC_2_CM_COREDATADEBTCAPACITY_IFBC_2_CM_COREDATADEBTCAPACITY_IFBC_2_CM_COREDATADEBTCAPACITY_IFBC_2_CM_COREDATADEBTCAPACITY_IFBC_2_CM_COREDATADEBTCAPACITY_IFBC_2_CM_COREDATAFINANCIALANALYSIS_2_CM_COREDATAFINANCIALANALYSIS_2_CM_COREDATAFINANCIALANALYSIS_2_CM_COREDATAFINANCIALANALYSIS_2_CM_COREDATAFINANCIALANALYSIS_2_CM_COREDATAFINANCIALANALYSIS_2_CM_COREDATAFINANCIALANALYSIS_2_CM_COREDATAFINANCIALANALYSIS_2_CM_COREDATAFINANCIALANALYSIS_2_CM_COREDATAFINANCIALANALYSIS_2_CM_COREDATAFUS_PART_TEMP_CM_COREDATAFUS_PART_TEMP_CM_COREDATAFUS_PART_TEMP_CM_COREDATAFUS_PART_TEMP_CM_COREDATAFUS_PART_TEMP_CM_COREDATAHTE_MARKETDATAFORWARD_2_CM_COREDATAHTE_MARKETDATAFORWARD_2_CM_COREDATAHTE_MARKETDATAFORWARD_2_CM_COREDATAHTE_MARKETDATAFORWARD_2_CM_COREDATAHTE_MARKETDATAFORWARD_2_CM_COREDATAHTE_MARKETDATAFORWARD_2_CM_COREDATAHTE_MARKETDATAFORWARD_2_CM_COREDATAHTE_MARKETDATAFORWARD_2_CM_COREDATAHTE_MARKETDATAFORWARD_2_CM_COREDATAHTE_MARKETDATAFORWARD_2_CM_COREDATAHTE_MARKETDATAFORWARD_2_CM_COREDATAHTE_MARKETDATAFX_2_CM_COREDATAHTE_MARKETDATAFX_2_CM_COREDATAHTE_MARKETDATAFX_2_CM_COREDATAHTE_MARKETDATAFX_2_CM_COREDATAHTE_MARKETDATAFX_2_CM_COREDATAHTE_MARKETDATAFX_2_CM_COREDATAHTE_MARKETDATAFX_2_CM_COREDATAHTE_MARKETDATAFX_2_CM_COREDATAHTE_MARKETDATAFX_2_CM_COREDATAHTE_MARKETDATAFX_2_CM_COREDATAHTE_MARKETDATATERM_2_CM_COREDATAHTE_MARKETDATATERM_2_CM_COREDATAHTE_MARKETDATATERM_2_CM_COREDATAHTE_MARKETDATATERM_2_CM_COREDATAHTE_MARKETDATATERM_2_CM_COREDATAHTE_MARKETDATATERM_2_CM_COREDATAHTE_MARKETDATATERM_2_CM_COREDATAHTE_MARKETDATATERM_2_CM_COREDATAHTE_MARKETDATATERM_2_CM_COREDATAHTE_MARKETDATATERM_2_CM_COREDATAHTE_MARKETDATATERM_2_CM_COREDATAHTE_SECTORCOMPARISONCONFIG_2_CM_COREDATAHTE_SECTORCOMPARISONCONFIG_2_CM_COREDATAHTE_SECTORCOMPARISONCONFIG_2_CM_COREDATAHTE_SECTORCOMPARISONCONFIG_2_CM_COREDATAHTE_SECTORCOMPARISONCONFIG_2_CM_COREDATAHTE_SECTORCOMPARISONCONFIG_2_CM_COREDATAHTE_SECTORCOMPARISONCONFIG_2_CM_COREDATAHTE_SECTORCOMPARISONCONFIG_2_CM_COREDATAHTE_SECTORCOMPARISONCONFIG_2_CM_COREDATAHTE_SECTORCOMPARISONCONFIG_2_CM_COREDATAHTE_SECTORCOMPARISONDATASET_2_CM_COREDATAHTE_SECTORCOMPARISONDATASET_2_CM_COREDATAHTE_SECTORCOMPARISONDATASET_2_CM_COREDATAHTE_SECTORCOMPARISONDATASET_2_CM_COREDATAHTE_SECTORCOMPARISONDATASET_2_CM_COREDATAHTE_SECTORCOMPARISONDATASET_2_CM_COREDATAHTE_SECTORCOMPARISONDATASET_2_CM_COREDATAHTE_SECTORCOMPARISONDATASET_2_CM_COREDATAHTE_SECTORCOMPARISONDATASET_2_CM_COREDATAHTE_SECTORCOMPARISONDATASET_2_CM_COREDATAHTE_SECTORCOMPARISONDATASET_2_CM_COREDATAHTE_SECTORCOMPARISONDATA_2_CM_COREDATAHTE_SECTORCOMPARISONDATA_2_CM_COREDATAHTE_SECTORCOMPARISONDATA_2_CM_COREDATAHTE_SECTORCOMPARISONDATA_2_CM_COREDATAHTE_SECTORCOMPARISONDATA_2_CM_COREDATAHTE_SECTORCOMPARISONDATA_2_CM_COREDATAHTE_SECTORCOMPARISONDATA_2_CM_COREDATAHTE_SECTORCOMPARISONDATA_2_CM_COREDATAHTE_SECTORCOMPARISONDATA_2_CM_COREDATAHTE_SECTORCOMPARISONDATA_2_CM_COREDATAHTE_SECTORCOMPARISONDATA_2_CM_COREDATAHTE_SECTORCOMPARISONDATA_2_CM_COREDATAHTE_SECTORCOMPARISONDATA_2_CM_COREDATAHTE_SECTORCOMPARISONDATA_2_CM_COREDATAHTE_SECTORCOMPARISONDATA_2_CM_COREDATAHTE_SECTORCOMPARISONDATA_2_CM_COREDATAMANDATOR_2_CM_COREDATAMANDATOR_2_CM_COREDATAMANDATOR_2_CM_COREDATAMANDATOR_2_CM_COREDATAMANDATOR_2_CM_COREDATAMARKETDATAFORWARD_2_CM_COREDATAMARKETDATAFORWARD_2_CM_COREDATAMARKETDATAFORWARD_2_CM_COREDATAMARKETDATAFORWARD_2_CM_COREDATAMARKETDATAFORWARD_2_CM_COREDATAMARKETDATAFORWARD_2_CM_COREDATAMARKETDATAFORWARD_2_CM_COREDATAMARKETDATAFORWARD_2_CM_COREDATAMARKETDATAFORWARD_2_CM_COREDATAMARKETDATAFORWARD_2_CM_COREDATAMARKETDATAFX_2_CM_COREDATAMARKETDATAFX_2_CM_COREDATAMARKETDATAFX_2_CM_COREDATAMARKETDATAFX_2_CM_COREDATAMARKETDATAFX_2_CM_COREDATAMARKETDATAFX_2_CM_COREDATAMARKETDATAFX_2_CM_COREDATAMARKETDATAFX_2_CM_COREDATAMARKETDATAFX_2_CM_COREDATAMARKETDATATERM_2_CM_COREDATAMARKETDATATERM_2_CM_COREDATAMARKETDATATERM_2_CM_COREDATAMARKETDATATERM_2_CM_COREDATAMARKETDATATERM_2_CM_COREDATAMARKETDATATERM_2_CM_COREDATAMARKETDATATERM_2_CM_COREDATAMARKETDATATERM_2_CM_COREDATAMARKETDATATERM_2_CM_COREDATAMARKETDATATERM_2_CM_COREDATAPARTNERS_TEMP_CM_COREDATAPARTNERS_TEMP_CM_COREDATAPARTNERS_TEMP_CM_COREDATAPARTNER_2_CM_COREDATAPARTNER_2_CM_COREDATAPARTNER_2_CM_COREDATAPARTNER_2_CM_COREDATAPARTNER_2_CM_COREDATAPARTNER_2_CM_COREDATAPARTNER_2_CM_COREDATAPRICINGADVISORYOUTPUT_2_CM_COREDATAPRICINGADVISORYOUTPUT_2_CM_COREDATAPRICINGADVISORYOUTPUT_2_CM_COREDATAPRICINGADVISORYOUTPUT_2_CM_COREDATAPRICINGADVISORYOUTPUT_2_CM_COREDATAPRICINGADVISORYOUTPUT_2_CM_COREDATAPRICINGADVISORYOUTPUT_2_CM_COREDATAPRICINGADVISORYOUTPUT_2_CM_COREDATAPRICING_2_CM_COREDATAPRICING_2_CM_COREDATAPRICING_2_CM_COREDATAPRICING_2_CM_COREDATAPRICING_2_CM_COREDATAPRICING_2_CM_COREDATAPRICING_2_CM_COREDATAPRICING_2_CM_COREDATAPRICING_2_CM_COREDATAPRICING_2_CM_COREDATAQUALITATIVEASSESSMENT_2_CM_COREDATAQUALITATIVEASSESSMENT_2_CM_COREDATAQUALITATIVEASSESSMENT_2_CM_COREDATAQUALITATIVEASSESSMENT_2_CM_COREDATAQUALITATIVEASSESSMENT_2_CM_COREDATAQUALITATIVEASSESSMENT_2_CM_COREDATAQUALITATIVEASSESSMENT_2_CM_COREDATARATING_2_CM_COREDATARATING_2_CM_COREDATARATING_2_CM_COREDATARATING_2_CM_COREDATARATING_2_CM_COREDATARATING_2_CM_COREDATARATING_2_CM_COREDATARATING_2_CM_COREDATARATING_2_CM_COREDATARATING_2_CM_COREDATARATING_2_CM_COREDATARATING_2_CM_COREDATASECTORCOMPARISONCONFIG_2_CM_COREDATASECTORCOMPARISONCONFIG_2_CM_COREDATASECTORCOMPARISONCONFIG_2_CM_COREDATASECTORCOMPARISONCONFIG_2_CM_COREDATASECTORCOMPARISONCONFIG_2_CM_COREDATASECTORCOMPARISONCONFIG_2_CM_COREDATASECTORCOMPARISONCONFIG_2_CM_COREDATASECTORCOMPARISONCONFIG_2_CM_COREDATASECTORCOMPARISONCONFIG_2_CM_COREDATASECTORCOMPARISONDATASET_2_CM_COREDATASECTORCOMPARISONDATASET_2_CM_COREDATASECTORCOMPARISONDATASET_2_CM_COREDATASECTORCOMPARISONDATASET_2_CM_COREDATASECTORCOMPARISONDATASET_2_CM_COREDATASECTORCOMPARISONDATASET_2_CM_COREDATASECTORCOMPARISONDATASET_2_CM_COREDATASECTORCOMPARISONDATASET_2_CM_COREDATASECTORCOMPARISONDATASET_2_CM_COREDATASECTORCOMPARISONDATASET_2_CM_COREDATASECTORCOMPARISONDATA_2_CM_COREDATASECTORCOMPARISONDATA_2_CM_COREDATASECTORCOMPARISONDATA_2_CM_COREDATASECTORCOMPARISONDATA_2_CM_COREDATASECTORCOMPARISONDATA_2_CM_COREDATASECTORCOMPARISONDATA_2_CM_COREDATASECTORCOMPARISONDATA_2_CM_COREDATASECTORCOMPARISONDATA_2_CM_COREDATASECTORCOMPARISONDATA_2_CM_COREDATASECTORCOMPARISONDATA_2_CM_COREDATASECTORCOMPARISONDATA_2_CM_COREDATASECTORCOMPARISONDATA_2_CM_COREDATASECTORCOMPARISONDATA_2_CM_COREDATASECTORCOMPARISONDATA_2_CM_COREDATASECTORCOMPARISONDATA_2_CM_COREDATASTATUSHISTORY_2_CM_COREDATASTATUSHISTORY_2_CM_COREDATASTATUSHISTORY_2_CM_COREDATASTATUSHISTORY_2_CM_COREDATASTATUSHISTORY_2_CM_COREDATASTATUSHISTORY_2_CM_COREDATASTATUSHISTORY_2_CM_COREDATASTATUSHISTORY_2_CM_COREDATATMP_ANALYSE_FACREATED_CM_COREDATATMP_ANALYSE_FACREATED_CM_COREDATATMP_ANALYSE_FACREATED_CM_COREDATATMP_ANALYSE_FACREATED_CM_COREDATATMP_ANALYSE_FACREATED_CM_COREDATATMP_ANALYSE_FACREATED_CM_COREDATATMP_ANALYSE_FACREATED_CM_COREDATATMP_ANALYSE_FACREATED_CM_COREDATATMP_ANALYSE_IVAN_CM_COREDATATMP_ANALYSE_IVAN_CM_COREDATATMP_ANALYSE_IVAN_CM_COREDATATMP_ANALYSE_IVAN_CM_COREDATATMP_ANALYSE_IVAN_CM_COREDATATMP_ANALYSE_IVAN_CM_COREDATATMP_ANALYSE_IVAN_CM_COREDATATMP_ANALYSE_IVAN_CM_COREDATATMP_ANALYSE_IVAN_CM_COREDATATMP_ANALYSE_IVAN_CM_COREDATATMP_ANALYSE_IVAN_CM_COREDATATOAD_PLAN_SQL_CM_COREDATATOAD_PLAN_SQL_CM_COREDATATOAD_PLAN_SQL_CM_COREDATATOAD_PLAN_SQL_CM_COREDATAABA01_STATE_OWN_NMAT_UASABA01_STATE_OWN_NMAT_UASABA01_STATE_OWN_NMAT_UASABA01_STATE_OWN_NMAT_UASABA01_STATE_OWN_NMAT_UASABA01_STATE_OWN_NMAT_UASABA01_STATE_OWN_NMAT_UASABA01_STATE_OWN_NMAT_UASABA01_STATE_OWN_NMAT_UASABA01_STATE_OWN_NMAT_UASABA01_STATE_OWN_NMAT_UASABA01_STATE_OWN_NMAT_UASABA02_FILE_OWN_NMAT_UASABA02_FILE_OWN_NMAT_UASABA02_FILE_OWN_NMAT_UASABA02_FILE_OWN_NMAT_UASABA02_FILE_OWN_NMAT_UASABA02_FILE_OWN_NMAT_UASABA02_FILE_OWN_NMAT_UASABA02_FILE_OWN_NMAT_UASABA03_BASEFILE_OWN_NMAT_UASABA03_BASEFILE_OWN_NMAT_UASACT01_ACTIVITY_OWN_NMAT_UASACT01_ACTIVITY_OWN_NMAT_UASACT01_ACTIVITY_OWN_NMAT_UASACT01_ACTIVITY_OWN_NMAT_UASACT01_ACTIVITY_OWN_NMAT_UASACT01_ACTIVITY_OWN_NMAT_UASACT01_ACTIVITY_OWN_NMAT_UASACT01_ACTIVITY_OWN_NMAT_UASACT01_ACTIVITY_OWN_NMAT_UASACT01_ACTIVITY_OWN_NMAT_UASACT01_ACTIVITY_OWN_NMAT_UASACT01_ACTIVITY_OWN_NMAT_UASACT01_ACTIVITY_OWN_NMAT_UASACT01_ACTIVITY_OWN_NMAT_UASACT01_ACTIVITY_OWN_NMAT_UASACT01_ACTIVITY_OWN_NMAT_UASACT01_ACTIVITY_OWN_NMAT_UASACT01_ACTIVITY_OWN_NMAT_UASACT01_ACTIVITY_OWN_NMAT_UASACT01_ACTIVITY_OWN_NMAT_UASACT01_ACTIVITY_OWN_NMAT_UASACT01_ACTIVITY_OWN_NMAT_UASACT01_ACTIVITY_OWN_NMAT_UASACT01_ACTIVITY_OWN_NMAT_UASACT01_ACTIVITY_OWN_NMAT_UASACT02_SUBJOFACT_OWN_NMAT_UASACT02_SUBJOFACT_OWN_NMAT_UASACT03_CORRESP_OWN_NMAT_UASACT03_CORRESP_OWN_NMAT_UASACT03_CORRESP_OWN_NMAT_UASACT03_CORRESP_OWN_NMAT_UASACT03_CORRESP_OWN_NMAT_UASACT03_CORRESP_OWN_NMAT_UASACT03_CORRESP_OWN_NMAT_UASACT03_CORRESP_OWN_NMAT_UASACT03_CORRESP_OWN_NMAT_UASACT03_CORRESP_OWN_NMAT_UASACT03_CORRESP_OWN_NMAT_UASACT03_CORRESP_OWN_NMAT_UASACT03_CORRESP_OWN_NMAT_UASACT03_CORRESP_OWN_NMAT_UASACT03_CORRESP_OWN_NMAT_UASACT03_CORRESP_OWN_NMAT_UASACT03_CORRESP_OWN_NMAT_UASACT03_CORRESP_OWN_NMAT_UASACT03_CORRESP_OWN_NMAT_UASACT03_CORRESP_OWN_NMAT_UASACT03_CORRESP_OWN_NMAT_UASACT03_CORRESP_OWN_NMAT_UASACT03_CORRESP_OWN_NMAT_UASACT03_CORRESP_OWN_NMAT_UASACT03_CORRESP_OWN_NMAT_UASACT03_CORRESP_OWN_NMAT_UASACT03_CORRESP_OWN_NMAT_UASACT03_CORRESP_OWN_NMAT_UASACT04_CORRRECEIV_OWN_NMAT_UASACT04_CORRRECEIV_OWN_NMAT_UASACT04_CORRRECEIV_OWN_NMAT_UASACT04_CORRRECEIV_OWN_NMAT_UASACT04_CORRRECEIV_OWN_NMAT_UASACT04_CORRRECEIV_OWN_NMAT_UASACT04_CORRRECEIV_OWN_NMAT_UASACT04_CORRRECEIV_OWN_NMAT_UASACT04_CORRRECEIV_OWN_NMAT_UASACT04_CORRRECEIV_OWN_NMAT_UASACT04_CORRRECEIV_OWN_NMAT_UASACT04_CORRRECEIV_OWN_NMAT_UASACT05_LANGOFCORR_OWN_NMAT_UASACT05_LANGOFCORR_OWN_NMAT_UASACT06_CORRCONTENT_OWN_NMAT_UASACT06_CORRCONTENT_OWN_NMAT_UASACT06_CORRCONTENT_OWN_NMAT_UASACT06_CORRCONTENT_OWN_NMAT_UASACT06_CORRCONTENT_OWN_NMAT_UASACT07_EMAILIMPORT_OWN_NMAT_UASACT07_EMAILIMPORT_OWN_NMAT_UAStable_name_ownerflyway_schema_history_phdlkalenderflyway_schema_history_phdlkalenderflyway_schema_history_phdlkalenderflyway_schema_history_phdlkalenderflyway_schema_history_phdlkalenderflyway_schema_history_phdlkalenderflyway_schema_history_phdlkalenderflyway_schema_history_phdlkalenderflyway_schema_history_phdlkalenderflyway_schema_history_phdlkalendergruppe_phdlkalendergruppe_phdlkalenderhdltage_phdlkalenderhdltage_phdlkalenderhdltage_phdlkalenderlog_phdlkalenderlog_phdlkalenderlog_phdlkalenderlog_phdlkalendermitarbeiter_phdlkalendermitarbeiter_phdlkalendermitarbeiter_phdlkalendermitarbeiter_phdlkalendermitarbeiter_phdlkalenderoptions_phdlkalenderoptions_phdlkalenderoptions_phdlkalenderoptions_phdlkalenderAdditionalFile_pvvwAdditionalFile_pvvwAdditionalFile_pvvwAdditionalFile_pvvwAdditionalFile_pvvwAdditionalFile_pvvwAdditionalFile_pvvwAdditionalFile_pvvwAdditionalFile_pvvwAdditionalFile_pvvwAdditionalFile_pvvwAdditionalFile_pvvwAdditionalFile_pvvwBesuchsrythmus_pvvwBesuchsrythmus_pvvwBesuchsrythmus_pvvwBesuchsrythmus_pvvwBesuchsrythmus_pvvwBranche_pvvwBranche_pvvwBranche_pvvwBranche_pvvwBranche_pvvwBranche_pvvwBranche_pvvwBranche_pvvwBranche_pvvwConfiguration_pvvwConfiguration_pvvwConfiguration_pvvwConfiguration_pvvwConfiguration_pvvwConfiguration_pvvwConfiguration_pvvwConfiguration_pvvwConfiguration_pvvwEdvArbeitsplatz_pvvwEdvArbeitsplatz_pvvwEdvArbeitsplatz_pvvwEdvArbeitsplatz_pvvwEdvArbeitsplatz_pvvwEdvArbeitsplatz_pvvwEdvArbeitsplatz_pvvwEdvArbeitsplatz_pvvwEdvArbeitsplatz_pvvwEventLog_pvvwEventLog_pvvwEventLog_pvvwEventLog_pvvwEventLog_pvvwEventLog_pvvwEventLog_pvvwEventLog_pvvwEventLog_pvvwEventLog_pvvwEventLog_pvvwEventLog_pvvwFileGroup_pvvwFileGroup_pvvwFileGroup_pvvwFileGroup_pvvwFileGroup_pvvwFileGroup_pvvwFileGroup_pvvwFileGroup_pvvwFileGroup_pvvwFileGroup_pvvwFileGroup_pvvwGesellschaft_pvvwGesellschaft_pvvwGesellschaft_pvvwGesellschaft_pvvwGesellschaft_pvvwGesellschaft_pvvwGesellschaft_pvvwGesellschaft_pvvwJahresverarbeitung_pvvwJahresverarbeitung_pvvwJahresverarbeitung_pvvwJahresverarbeitung_pvvwJahresverarbeitung_pvvwJahresverarbeitung_pvvwJahresverarbeitung_pvvwJahresverarbeitung_pvvwJahresverarbeitung_pvvwJahresverarbeitung_pvvwJahresverarbeitung_pvvwJahresverarbeitung_pvvwKTGMigrationData_pvvwKTGMigrationData_pvvwKTGMigrationData_pvvwKommentar_pvvwKommentar_pvvwKommentar_pvvwKommentar_pvvwKommentar_pvvwKommentar_pvvwKommentar_pvvwKommentar_pvvwKommentar_pvvwKommentar_pvvwKommentar_pvvwKommentar_pvvwKommentar_pvvwKommentarAttachment_pvvwKommentarAttachment_pvvwKommentarAttachment_pvvwKommentarAttachment_pvvwKommentarAttachment_pvvwKommentarAttachment_pvvwKommentarAttachment_pvvwKommentarAttachment_pvvwKommentarAttachment_pvvwKommentarAttachment_pvvwKommentarAttachment_pvvwKommentarAttachment_pvvwNews_pvvwNews_pvvwNews_pvvwNews_pvvwNews_pvvwNews_pvvwNews_pvvwNews_pvvwNews_pvvwNews_pvvwNews_pvvwNews_pvvwNews_pvvwNews_pvvwNews_pvvwNews_pvvwNews_pvvwNews_pvvwRahmenvertrag_pvvwRahmenvertrag_pvvwRahmenvertrag_pvvwRahmenvertrag_pvvwRahmenvertrag_pvvwRahmenvertrag_pvvwRahmenvertrag_pvvwRahmenvertrag_pvvwRahmenvertrag_pvvwRahmenvertrag_pvvwRahmenvertrag_pvvwRahmenvertrag_pvvwRahmenvertrag_pvvwRahmenvertrag_pvvwRahmenvertrag_pvvwRahmenvertrag_pvvwRahmenvertrag_pvvwRahmenvertrag_pvvwRahmenvertrag_pvvwRahmenvertrag_pvvwRahmenvertrag_pvvwRahmenvertrag_pvvwRahmenvertragTemplate_pvvwRahmenvertragTemplate_pvvwRahmenvertragTemplate_pvvwRahmenvertragTemplate_pvvwRahmenvertragTemplate_pvvwRahmenvertragTemplate_pvvwRahmenvertragTemplate_pvvwRahmenvertragTemplate_pvvwRahmenvertragTemplate_pvvwRahmenvertragTemplate_pvvwRahmenvertragTemplate_pvvwRahmenvertragTemplate_pvvwRahmenvertragTemplate_pvvwRahmenvertragsTyp_pvvwRahmenvertragsTyp_pvvwRahmenvertragsTyp_pvvwRahmenvertragsTyp_pvvwRahmenvertragsTyp_pvvwRahmenvertragsTyp_pvvwRahmenvertragsTyp_pvvwRahmenvertragsTyp_pvvwRahmenvertragsTyp_pvvwRahmenvertragsTyp_pvvwRahmenvertragsTyp_pvvwSapTransaction_pvvwSapTransaction_pvvwSapTransaction_pvvwSapTransaction_pvvwSapTransaction_pvvwSapTransaction_pvvwSapTransaction_pvvwSapTransaction_pvvwSapTransaction_pvvwSapTransaction_pvvwSapTransaction_pvvwSapTransaction_pvvwSapTransaction_pvvwSapTransaction_pvvwSapTransaction_pvvwSapTransaction_pvvwSapTransaction_pvvwSapTransaction_pvvwSapTransaction_pvvwSapTransaction_pvvwSapTransaction_pvvwSapTransaction_pvvwSchadenfall_pvvwSchadenfall_pvvwSchadenfall_pvvwSchadenfall_pvvwSchadenfall_pvvwSchadenfall_pvvwSchadenfall_pvvwSchadenfall_pvvwSchadenfall_pvvwSchadenfall_pvvwSchadenfall_pvvwSchadenfall_pvvwSchadenfall_pvvwSchadenfall_pvvwSchadenfall_pvvwSchadenfall_pvvwSchadenfall_pvvwSchadenfall_pvvwSchadenfall_pvvwSchadenfall_pvvwSchadenfall_pvvwSchadenfall_pvvwSchadenfall_pvvwSchadenfall_pvvwSchadenfall_pvvwStammdaten_pvvwStammdaten_pvvwStammdaten_pvvwStammdaten_pvvwStammdaten_pvvwStammdaten_pvvwStammdaten_pvvwStammdaten_pvvwStammdaten_pvvwStammdaten_pvvwStammdaten_pvvwStammdaten_pvvwVersicherungsnehmer_pvvwVersicherungsnehmer_pvvwVersicherungsnehmer_pvvwVersicherungsnehmer_pvvwVersicherungsnehmer_pvvwVersicherungsnehmer_pvvwVersicherungsnehmer_pvvwVersicherungsnehmer_pvvwVersicherungsnehmer_pvvwVersicherungsnehmer_pvvwVersicherungsnehmer_pvvwVersicherungsnehmer_pvvwVersicherungsnehmer_pvvwVersicherungsnehmer_pvvwVersicherungsnehmer_pvvwVersicherungsnehmer_pvvwVersicherungsnehmer_pvvwVersicherungsnehmer_pvvwVersicherungsnehmer_pvvwVersicherungsnehmer_pvvwVersicherungsnehmer_pvvwVersicherungsnehmer_pvvwVersicherungsnehmer_pvvwVersicherungsnehmer_pvvwVersicherungsnehmer_pvvwVersicherungsnehmer_pvvwVersicherungsnehmer_pvvwVersicherungsnehmer_pvvwVersicherungsnehmer_pvvwVersicherungsnehmer_pvvwVersicherungsnehmer_pvvwVersicherungsnehmer_pvvwVersicherungsnehmer_pvvwVersicherungsnehmer_pvvwVertrag_pvvwVertrag_pvvwVertrag_pvvwVertrag_pvvwVertrag_pvvwVertrag_pvvwVertrag_pvvwVertrag_pvvwVertrag_pvvwVertrag_pvvwVertrag_pvvwVertrag_pvvwVertrag_pvvwVertrag_pvvwVertrag_pvvwVertrag_pvvwVertrag_pvvwVertrag_pvvwVertragExtern_pvvwVertragExtern_pvvwVertragExtern_pvvwVertragExtern_pvvwVertragExtern_pvvwVertragExtern_pvvwVertragExtern_pvvwVertragExtern_pvvwVertragExtern_pvvwVertragExtern_pvvwVertragExtern_pvvwVertragExtern_pvvwVertragExtern_pvvwVertragExtern_pvvwVertragExtern_pvvwjobrunr_backgroundjobservers_pvvwjobrunr_backgroundjobservers_pvvwjobrunr_backgroundjobservers_pvvwjobrunr_backgroundjobservers_pvvwjobrunr_backgroundjobservers_pvvwjobrunr_backgroundjobservers_pvvwjobrunr_backgroundjobservers_pvvwjobrunr_backgroundjobservers_pvvwjobrunr_backgroundjobservers_pvvwjobrunr_backgroundjobservers_pvvwjobrunr_backgroundjobservers_pvvwjobrunr_backgroundjobservers_pvvwjobrunr_backgroundjobservers_pvvwjobrunr_backgroundjobservers_pvvwjobrunr_backgroundjobservers_pvvwjobrunr_jobs_pvvwjobrunr_jobs_pvvwjobrunr_jobs_pvvwjobrunr_jobs_pvvwjobrunr_jobs_pvvwjobrunr_jobs_pvvwjobrunr_jobs_pvvwjobrunr_jobs_pvvwjobrunr_jobs_pvvwjobrunr_jobs_stats_pvvwjobrunr_jobs_stats_pvvwjobrunr_jobs_stats_pvvwjobrunr_jobs_stats_pvvwjobrunr_jobs_stats_pvvwjobrunr_jobs_stats_pvvwjobrunr_jobs_stats_pvvwjobrunr_jobs_stats_pvvwjobrunr_jobs_stats_pvvwjobrunr_jobs_stats_pvvwjobrunr_metadata_pvvwjobrunr_metadata_pvvwjobrunr_metadata_pvvwjobrunr_metadata_pvvwjobrunr_metadata_pvvwjobrunr_metadata_pvvwjobrunr_migrations_pvvwjobrunr_migrations_pvvwjobrunr_migrations_pvvwjobrunr_recurring_jobs_pvvwjobrunr_recurring_jobs_pvvwjobrunr_recurring_jobs_pvvwjobrunr_recurring_jobs_pvvwschema_version_pvvwschema_version_pvvwschema_version_pvvwschema_version_pvvwschema_version_pvvwschema_version_pvvwschema_version_pvvwschema_version_pvvwschema_version_pvvwschema_version_pvvwansprechpartner_pmyrb_webansprechpartner_pmyrb_webansprechpartner_pmyrb_webbanking_device_pmyrb_webbanking_device_pmyrb_webbanking_device_pmyrb_webbankleistung_pmyrb_webbankleistung_pmyrb_webbankleistung_pmyrb_webbankleistung_pmyrb_webbankleistung_pmyrb_webbankleistung_pmyrb_webbankleistung_pmyrb_webbankleistung_pmyrb_webbankleistung_pmyrb_webbankleistung_pmyrb_webbankleistung_pmyrb_webbankleistung_pmyrb_webbankleistung_pmyrb_webbankleistung_pmyrb_webbankleistung_pmyrb_webbankleistung_pmyrb_webbankleistung_pmyrb_webbankleistung_pmyrb_webbankleistung_pmyrb_webbankleistung_pmyrb_webbankleistung_pmyrb_webbezeichnung_itil_suite_pmyrb_webbezeichnung_itil_suite_pmyrb_webbezeichnung_itil_suite_pmyrb_webbezeichnung_itil_suite_pmyrb_webbezeichnung_itil_suite_pmyrb_webbezeichnung_itil_suite_pmyrb_webbudget_pmyrb_webbudget_pmyrb_webbudget_pmyrb_webbudget_pmyrb_webbudget_pmyrb_webbudget_pmyrb_webclient_pmyrb_webclient_pmyrb_webclient_pmyrb_webclient_pmyrb_webclient_pmyrb_webclient_pmyrb_webclient_pmyrb_webclient_pmyrb_webclient_pmyrb_webclient_pmyrb_webclient_pmyrb_webdrucker_pmyrb_webdrucker_pmyrb_webdrucker_pmyrb_webdrucker_pmyrb_webdrucker_pmyrb_webdrucker_pmyrb_webdrucker_pmyrb_webdrucker_pmyrb_webdrucker_pmyrb_webenergie_pmyrb_webenergie_pmyrb_webenergie_pmyrb_webenergie_pmyrb_webfileStore_pmyrb_webfileStore_pmyrb_webfileStore_pmyrb_webfileStore_pmyrb_webfileStore_pmyrb_webflyway_schema_history_pmyrb_webflyway_schema_history_pmyrb_webflyway_schema_history_pmyrb_webflyway_schema_history_pmyrb_webflyway_schema_history_pmyrb_webflyway_schema_history_pmyrb_webflyway_schema_history_pmyrb_webflyway_schema_history_pmyrb_webflyway_schema_history_pmyrb_webflyway_schema_history_pmyrb_webhardware_pmyrb_webhardware_pmyrb_webhardware_pmyrb_webhardware_pmyrb_webhardware_pmyrb_webhardware_pmyrb_webhardware_pmyrb_webhardware_pmyrb_webhardware_pmyrb_webhardware_bestandteile_pmyrb_webhardware_bestandteile_pmyrb_webhardware_optionen_pmyrb_webhardware_optionen_pmyrb_webheadset_pmyrb_webheadset_pmyrb_webheadset_pmyrb_webheadset_pmyrb_webheadset_pmyrb_webheadset_pmyrb_webheadset_optionen_pmyrb_webheadset_optionen_pmyrb_webhersteller_pmyrb_webhersteller_pmyrb_webhersteller_pmyrb_webhersteller_pmyrb_webjobrunr_backgroundjobservers_pmyrb_webjobrunr_backgroundjobservers_pmyrb_webjobrunr_backgroundjobservers_pmyrb_webjobrunr_backgroundjobservers_pmyrb_webjobrunr_backgroundjobservers_pmyrb_web\n"
     ]
    }
   ],
   "source": [
    "unique_counts = df['DBName_Schema'].value_counts()\n",
    "print(unique_counts)\n",
    "print(df['DBName_Schema'].sum())"
   ]
  },
  {
   "cell_type": "code",
   "execution_count": 49,
   "metadata": {},
   "outputs": [],
   "source": [
    "df = df.drop(columns=['UID', 'Schema', 'DBName'], inplace=False)"
   ]
  },
  {
   "cell_type": "code",
   "execution_count": 27,
   "metadata": {},
   "outputs": [],
   "source": [
    "# Define features (X) and target (y)"
   ]
  },
  {
   "cell_type": "code",
   "execution_count": 50,
   "metadata": {},
   "outputs": [],
   "source": [
    "# Feature extraction using TF-IDF\n",
    "vectorizer = TfidfVectorizer(analyzer='word', stop_words='english')\n",
    "X = vectorizer.fit_transform(df['Column'])"
   ]
  },
  {
   "cell_type": "code",
   "execution_count": 51,
   "metadata": {},
   "outputs": [],
   "source": [
    "# Clustering using KMeans\n",
    "kmeans = KMeans(n_clusters=10, random_state=42)\n",
    "df['Cluster'] = kmeans.fit_predict(X)"
   ]
  },
  {
   "cell_type": "code",
   "execution_count": 52,
   "metadata": {},
   "outputs": [],
   "source": [
    "# Identify columns likely to contain sensitive information\n",
    "sensitive_keywords = ['ssn', 'social', 'security', 'dob', 'date_of_birth', 'credit', 'card', 'ccn', 'account', 'bank', 'email', 'phone', 'address']\n",
    "df['Sensitive'] = df['Column'].apply(lambda x: any(keyword in x for keyword in sensitive_keywords))\n"
   ]
  },
  {
   "cell_type": "code",
   "execution_count": 53,
   "metadata": {},
   "outputs": [],
   "source": [
    "# Flag potential compliance issues\n",
    "def flag_compliance_issues(column_name):\n",
    "    patterns = {\n",
    "        'PII': ['ssn', 'social', 'security', 'dob', 'date_of_birth', 'email', 'phone', 'address'],\n",
    "        'Financial': ['credit', 'card', 'ccn', 'account', 'bank']\n",
    "    }\n",
    "    for issue, keywords in patterns.items():\n",
    "        if any(keyword in column_name for keyword in keywords):\n",
    "            return issue\n",
    "    return 'None'\n",
    "\n",
    "df['Compliance_Issue'] = df['Column'].apply(flag_compliance_issues)\n"
   ]
  },
  {
   "cell_type": "code",
   "execution_count": 54,
   "metadata": {},
   "outputs": [
    {
     "data": {
      "text/html": [
       "<div>\n",
       "<style scoped>\n",
       "    .dataframe tbody tr th:only-of-type {\n",
       "        vertical-align: middle;\n",
       "    }\n",
       "\n",
       "    .dataframe tbody tr th {\n",
       "        vertical-align: top;\n",
       "    }\n",
       "\n",
       "    .dataframe thead th {\n",
       "        text-align: right;\n",
       "    }\n",
       "</style>\n",
       "<table border=\"1\" class=\"dataframe\">\n",
       "  <thead>\n",
       "    <tr style=\"text-align: right;\">\n",
       "      <th></th>\n",
       "      <th>DBType</th>\n",
       "      <th>Instance</th>\n",
       "      <th>Table</th>\n",
       "      <th>Column</th>\n",
       "      <th>ColumnType</th>\n",
       "      <th>document_content</th>\n",
       "      <th>DBName_Schema</th>\n",
       "      <th>Cluster</th>\n",
       "      <th>Sensitive</th>\n",
       "      <th>Compliance_Issue</th>\n",
       "    </tr>\n",
       "  </thead>\n",
       "  <tbody>\n",
       "    <tr>\n",
       "      <th>0</th>\n",
       "      <td>MSSQL</td>\n",
       "      <td>R0015702\\RCHSCOMP02</td>\n",
       "      <td>statehourly_d461f6afa87b4259b908b29da01ede5c</td>\n",
       "      <td>inredstatemilliseconds</td>\n",
       "      <td>int</td>\n",
       "      <td>In Red State Milliseconds</td>\n",
       "      <td>State_OperationsManagerDW</td>\n",
       "      <td>0</td>\n",
       "      <td>False</td>\n",
       "      <td>None</td>\n",
       "    </tr>\n",
       "    <tr>\n",
       "      <th>1</th>\n",
       "      <td>MSSQL</td>\n",
       "      <td>R0015702\\RCHSCOMP02</td>\n",
       "      <td>statehourly_d461f6afa87b4259b908b29da01ede5c</td>\n",
       "      <td>inyellowstatemilliseconds</td>\n",
       "      <td>int</td>\n",
       "      <td>In Yellow State Milliseconds</td>\n",
       "      <td>State_OperationsManagerDW</td>\n",
       "      <td>0</td>\n",
       "      <td>False</td>\n",
       "      <td>None</td>\n",
       "    </tr>\n",
       "    <tr>\n",
       "      <th>2</th>\n",
       "      <td>MSSQL</td>\n",
       "      <td>R0015702\\RCHSCOMP02</td>\n",
       "      <td>statehourly_d461f6afa87b4259b908b29da01ede5c</td>\n",
       "      <td>indisabledstatemilliseconds</td>\n",
       "      <td>int</td>\n",
       "      <td>In Disabled State Milliseconds</td>\n",
       "      <td>State_OperationsManagerDW</td>\n",
       "      <td>5</td>\n",
       "      <td>False</td>\n",
       "      <td>None</td>\n",
       "    </tr>\n",
       "    <tr>\n",
       "      <th>3</th>\n",
       "      <td>MSSQL</td>\n",
       "      <td>R0015702\\RCHSCOMP02</td>\n",
       "      <td>statehourly_d461f6afa87b4259b908b29da01ede5c</td>\n",
       "      <td>inplannedmaintenancemilliseconds</td>\n",
       "      <td>int</td>\n",
       "      <td>In Planned Maintenance Milliseconds</td>\n",
       "      <td>State_OperationsManagerDW</td>\n",
       "      <td>0</td>\n",
       "      <td>False</td>\n",
       "      <td>None</td>\n",
       "    </tr>\n",
       "    <tr>\n",
       "      <th>4</th>\n",
       "      <td>MSSQL</td>\n",
       "      <td>R0015702\\RCHSCOMP02</td>\n",
       "      <td>statehourly_d461f6afa87b4259b908b29da01ede5c</td>\n",
       "      <td>inunplannedmaintenancemilliseconds</td>\n",
       "      <td>int</td>\n",
       "      <td>In Unplanned Maintenance Milliseconds</td>\n",
       "      <td>State_OperationsManagerDW</td>\n",
       "      <td>0</td>\n",
       "      <td>False</td>\n",
       "      <td>None</td>\n",
       "    </tr>\n",
       "  </tbody>\n",
       "</table>\n",
       "</div>"
      ],
      "text/plain": [
       "  DBType             Instance                                         Table  \\\n",
       "0  MSSQL  R0015702\\RCHSCOMP02  statehourly_d461f6afa87b4259b908b29da01ede5c   \n",
       "1  MSSQL  R0015702\\RCHSCOMP02  statehourly_d461f6afa87b4259b908b29da01ede5c   \n",
       "2  MSSQL  R0015702\\RCHSCOMP02  statehourly_d461f6afa87b4259b908b29da01ede5c   \n",
       "3  MSSQL  R0015702\\RCHSCOMP02  statehourly_d461f6afa87b4259b908b29da01ede5c   \n",
       "4  MSSQL  R0015702\\RCHSCOMP02  statehourly_d461f6afa87b4259b908b29da01ede5c   \n",
       "\n",
       "                               Column ColumnType  \\\n",
       "0              inredstatemilliseconds        int   \n",
       "1           inyellowstatemilliseconds        int   \n",
       "2         indisabledstatemilliseconds        int   \n",
       "3    inplannedmaintenancemilliseconds        int   \n",
       "4  inunplannedmaintenancemilliseconds        int   \n",
       "\n",
       "                        document_content              DBName_Schema  Cluster  \\\n",
       "0              In Red State Milliseconds  State_OperationsManagerDW        0   \n",
       "1           In Yellow State Milliseconds  State_OperationsManagerDW        0   \n",
       "2         In Disabled State Milliseconds  State_OperationsManagerDW        5   \n",
       "3    In Planned Maintenance Milliseconds  State_OperationsManagerDW        0   \n",
       "4  In Unplanned Maintenance Milliseconds  State_OperationsManagerDW        0   \n",
       "\n",
       "   Sensitive Compliance_Issue  \n",
       "0      False             None  \n",
       "1      False             None  \n",
       "2      False             None  \n",
       "3      False             None  \n",
       "4      False             None  "
      ]
     },
     "execution_count": 54,
     "metadata": {},
     "output_type": "execute_result"
    }
   ],
   "source": [
    "# Save the results\n",
    "df.to_csv('rai_allprod_collumns_with_clusters_and_flags.csv', index=False)\n",
    "\n",
    "# Display the first few rows of the dataframe\n",
    "df.head()"
   ]
  }
 ],
 "metadata": {
  "kernelspec": {
   "display_name": "base",
   "language": "python",
   "name": "python3"
  },
  "language_info": {
   "codemirror_mode": {
    "name": "ipython",
    "version": 3
   },
   "file_extension": ".py",
   "mimetype": "text/x-python",
   "name": "python",
   "nbconvert_exporter": "python",
   "pygments_lexer": "ipython3",
   "version": "3.12.7"
  }
 },
 "nbformat": 4,
 "nbformat_minor": 2
}
