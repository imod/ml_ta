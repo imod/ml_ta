{
 "cells": [
  {
   "cell_type": "code",
   "execution_count": 2,
   "metadata": {},
   "outputs": [],
   "source": [
    "import pandas as pd\n",
    "from sklearn.feature_extraction.text import TfidfVectorizer\n",
    "from sklearn.cluster import KMeans\n",
    "from sklearn.pipeline import Pipeline\n",
    "from sklearn.preprocessing import StandardScaler\n",
    "import re\n",
    "\n",
    "# Load the data\n",
    "df = pd.read_csv('rai_allprod_collumns_clean.csv')\n"
   ]
  },
  {
   "cell_type": "code",
   "execution_count": 3,
   "metadata": {},
   "outputs": [],
   "source": [
    "# prepare data\n",
    "df['Column'] = df['Column'].str.lower()\n",
    "df = df[df['Column'].notna() & (df['Column'].str.strip() != '')]\n",
    "df['Table'] = df['Table'].str.lower()\n",
    "\n",
    "# Concatenate Schema and DBName columns\n",
    "df['DBName_Schema'] = df['Schema'] + '_' + df['DBName']"
   ]
  },
  {
   "cell_type": "code",
   "execution_count": 4,
   "metadata": {},
   "outputs": [
    {
     "name": "stdout",
     "output_type": "stream",
     "text": [
      "<class 'pandas.core.frame.DataFrame'>\n",
      "Index: 11346885 entries, 0 to 11346896\n",
      "Data columns (total 9 columns):\n",
      " #   Column         Dtype \n",
      "---  ------         ----- \n",
      " 0   UID            int64 \n",
      " 1   DBType         object\n",
      " 2   Instance       object\n",
      " 3   DBName         object\n",
      " 4   Schema         object\n",
      " 5   Table          object\n",
      " 6   Column         object\n",
      " 7   ColumnType     object\n",
      " 8   DBName_Schema  object\n",
      "dtypes: int64(1), object(8)\n",
      "memory usage: 865.7+ MB\n",
      "None\n",
      "UID              0\n",
      "DBType           0\n",
      "Instance         0\n",
      "DBName           0\n",
      "Schema           0\n",
      "Table            0\n",
      "Column           0\n",
      "ColumnType       0\n",
      "DBName_Schema    0\n",
      "dtype: int64\n"
     ]
    }
   ],
   "source": [
    "# display(dFrame.head(5))\n",
    "# print(dFrame.describe())\n",
    "print(df.info())\n",
    "print(df.isnull().sum())\n",
    "# print(df.sum())"
   ]
  },
  {
   "cell_type": "code",
   "execution_count": 5,
   "metadata": {},
   "outputs": [
    {
     "name": "stdout",
     "output_type": "stream",
     "text": [
      "DBName_Schema\n",
      "dbo_WSI_HPCMDBu_P                                                                      587258\n",
      "dbo_CM_PP5                                                                             506870\n",
      "storage_SLA-Data                                                                       211344\n",
      "dbo_CM_3P2                                                                              69608\n",
      "dbo_OperationsManager                                                                   56395\n",
      "                                                                                        ...  \n",
      "dbo__META                                                                                   1\n",
      "deleted_schema_60269b6d_2162_4456_b204_aeefb788c399_BPM_UASProcessMiningWarehouse_P         1\n",
      "Bloomberg_MWH_Warehouse                                                                     1\n",
      "identity_CxDB                                                                               1\n",
      "schema_60269b6d_2162_4456_b204_aeefb788c399_BPM_UASProcessMiningWarehouse_P                 1\n",
      "Name: count, Length: 2998, dtype: int64\n"
     ]
    }
   ],
   "source": [
    "unique_counts = df['DBName_Schema'].value_counts()\n",
    "print(unique_counts)\n",
    "print(df['DBName_Schema'].sum())"
   ]
  },
  {
   "cell_type": "code",
   "execution_count": 26,
   "metadata": {},
   "outputs": [],
   "source": [
    "df = df.drop(columns=['UID', 'Schema', 'DBName'], inplace=False)"
   ]
  },
  {
   "cell_type": "code",
   "execution_count": 27,
   "metadata": {},
   "outputs": [],
   "source": [
    "# Define features (X) and target (y)"
   ]
  },
  {
   "cell_type": "code",
   "execution_count": 29,
   "metadata": {},
   "outputs": [],
   "source": [
    "# Feature extraction using TF-IDF\n",
    "vectorizer = TfidfVectorizer(analyzer='word', stop_words='english')\n",
    "X = vectorizer.fit_transform(df['Column'])"
   ]
  },
  {
   "cell_type": "code",
   "execution_count": 30,
   "metadata": {},
   "outputs": [],
   "source": [
    "# Clustering using KMeans\n",
    "kmeans = KMeans(n_clusters=10, random_state=42)\n",
    "df['Cluster'] = kmeans.fit_predict(X)"
   ]
  },
  {
   "cell_type": "code",
   "execution_count": 31,
   "metadata": {},
   "outputs": [],
   "source": [
    "# Identify columns likely to contain sensitive information\n",
    "sensitive_keywords = ['ssn', 'social', 'security', 'dob', 'date_of_birth', 'credit', 'card', 'ccn', 'account', 'bank', 'email', 'phone', 'address']\n",
    "df['Sensitive'] = df['Column'].apply(lambda x: any(keyword in x for keyword in sensitive_keywords))\n"
   ]
  },
  {
   "cell_type": "code",
   "execution_count": 32,
   "metadata": {},
   "outputs": [],
   "source": [
    "# Flag potential compliance issues\n",
    "def flag_compliance_issues(column_name):\n",
    "    patterns = {\n",
    "        'PII': ['ssn', 'social', 'security', 'dob', 'date_of_birth', 'email', 'phone', 'address'],\n",
    "        'Financial': ['credit', 'card', 'ccn', 'account', 'bank']\n",
    "    }\n",
    "    for issue, keywords in patterns.items():\n",
    "        if any(keyword in column_name for keyword in keywords):\n",
    "            return issue\n",
    "    return 'None'\n",
    "\n",
    "df['Compliance_Issue'] = df['Column'].apply(flag_compliance_issues)\n"
   ]
  },
  {
   "cell_type": "code",
   "execution_count": 33,
   "metadata": {},
   "outputs": [
    {
     "data": {
      "text/html": [
       "<div>\n",
       "<style scoped>\n",
       "    .dataframe tbody tr th:only-of-type {\n",
       "        vertical-align: middle;\n",
       "    }\n",
       "\n",
       "    .dataframe tbody tr th {\n",
       "        vertical-align: top;\n",
       "    }\n",
       "\n",
       "    .dataframe thead th {\n",
       "        text-align: right;\n",
       "    }\n",
       "</style>\n",
       "<table border=\"1\" class=\"dataframe\">\n",
       "  <thead>\n",
       "    <tr style=\"text-align: right;\">\n",
       "      <th></th>\n",
       "      <th>DBType</th>\n",
       "      <th>Instance</th>\n",
       "      <th>DBName</th>\n",
       "      <th>Table</th>\n",
       "      <th>Column</th>\n",
       "      <th>ColumnType</th>\n",
       "      <th>Cluster</th>\n",
       "      <th>Sensitive</th>\n",
       "      <th>Compliance_Issue</th>\n",
       "    </tr>\n",
       "  </thead>\n",
       "  <tbody>\n",
       "    <tr>\n",
       "      <th>0</th>\n",
       "      <td>MSSQL</td>\n",
       "      <td>R0015702\\RCHSCOMP02</td>\n",
       "      <td>OperationsManagerDW</td>\n",
       "      <td>statehourly_d461f6afa87b4259b908b29da01ede5c</td>\n",
       "      <td>inredstatemilliseconds</td>\n",
       "      <td>int</td>\n",
       "      <td>0</td>\n",
       "      <td>False</td>\n",
       "      <td>None</td>\n",
       "    </tr>\n",
       "    <tr>\n",
       "      <th>1</th>\n",
       "      <td>MSSQL</td>\n",
       "      <td>R0015702\\RCHSCOMP02</td>\n",
       "      <td>OperationsManagerDW</td>\n",
       "      <td>statehourly_d461f6afa87b4259b908b29da01ede5c</td>\n",
       "      <td>inyellowstatemilliseconds</td>\n",
       "      <td>int</td>\n",
       "      <td>0</td>\n",
       "      <td>False</td>\n",
       "      <td>None</td>\n",
       "    </tr>\n",
       "    <tr>\n",
       "      <th>2</th>\n",
       "      <td>MSSQL</td>\n",
       "      <td>R0015702\\RCHSCOMP02</td>\n",
       "      <td>OperationsManagerDW</td>\n",
       "      <td>statehourly_d461f6afa87b4259b908b29da01ede5c</td>\n",
       "      <td>indisabledstatemilliseconds</td>\n",
       "      <td>int</td>\n",
       "      <td>0</td>\n",
       "      <td>False</td>\n",
       "      <td>None</td>\n",
       "    </tr>\n",
       "    <tr>\n",
       "      <th>3</th>\n",
       "      <td>MSSQL</td>\n",
       "      <td>R0015702\\RCHSCOMP02</td>\n",
       "      <td>OperationsManagerDW</td>\n",
       "      <td>statehourly_d461f6afa87b4259b908b29da01ede5c</td>\n",
       "      <td>inplannedmaintenancemilliseconds</td>\n",
       "      <td>int</td>\n",
       "      <td>0</td>\n",
       "      <td>False</td>\n",
       "      <td>None</td>\n",
       "    </tr>\n",
       "    <tr>\n",
       "      <th>4</th>\n",
       "      <td>MSSQL</td>\n",
       "      <td>R0015702\\RCHSCOMP02</td>\n",
       "      <td>OperationsManagerDW</td>\n",
       "      <td>statehourly_d461f6afa87b4259b908b29da01ede5c</td>\n",
       "      <td>inunplannedmaintenancemilliseconds</td>\n",
       "      <td>int</td>\n",
       "      <td>0</td>\n",
       "      <td>False</td>\n",
       "      <td>None</td>\n",
       "    </tr>\n",
       "  </tbody>\n",
       "</table>\n",
       "</div>"
      ],
      "text/plain": [
       "  DBType             Instance               DBName  \\\n",
       "0  MSSQL  R0015702\\RCHSCOMP02  OperationsManagerDW   \n",
       "1  MSSQL  R0015702\\RCHSCOMP02  OperationsManagerDW   \n",
       "2  MSSQL  R0015702\\RCHSCOMP02  OperationsManagerDW   \n",
       "3  MSSQL  R0015702\\RCHSCOMP02  OperationsManagerDW   \n",
       "4  MSSQL  R0015702\\RCHSCOMP02  OperationsManagerDW   \n",
       "\n",
       "                                          Table  \\\n",
       "0  statehourly_d461f6afa87b4259b908b29da01ede5c   \n",
       "1  statehourly_d461f6afa87b4259b908b29da01ede5c   \n",
       "2  statehourly_d461f6afa87b4259b908b29da01ede5c   \n",
       "3  statehourly_d461f6afa87b4259b908b29da01ede5c   \n",
       "4  statehourly_d461f6afa87b4259b908b29da01ede5c   \n",
       "\n",
       "                               Column ColumnType  Cluster  Sensitive  \\\n",
       "0              inredstatemilliseconds        int        0      False   \n",
       "1           inyellowstatemilliseconds        int        0      False   \n",
       "2         indisabledstatemilliseconds        int        0      False   \n",
       "3    inplannedmaintenancemilliseconds        int        0      False   \n",
       "4  inunplannedmaintenancemilliseconds        int        0      False   \n",
       "\n",
       "  Compliance_Issue  \n",
       "0             None  \n",
       "1             None  \n",
       "2             None  \n",
       "3             None  \n",
       "4             None  "
      ]
     },
     "execution_count": 33,
     "metadata": {},
     "output_type": "execute_result"
    }
   ],
   "source": [
    "# Save the results\n",
    "df.to_csv('rai_allprod_collumns_with_clusters_and_flags.csv', index=False)\n",
    "\n",
    "# Display the first few rows of the dataframe\n",
    "df.head()"
   ]
  }
 ],
 "metadata": {
  "kernelspec": {
   "display_name": "base",
   "language": "python",
   "name": "python3"
  },
  "language_info": {
   "codemirror_mode": {
    "name": "ipython",
    "version": 3
   },
   "file_extension": ".py",
   "mimetype": "text/x-python",
   "name": "python",
   "nbconvert_exporter": "python",
   "pygments_lexer": "ipython3",
   "version": "3.12.7"
  }
 },
 "nbformat": 4,
 "nbformat_minor": 2
}
