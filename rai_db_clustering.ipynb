{
 "cells": [
  {
   "cell_type": "markdown",
   "metadata": {},
   "source": [
    "__The input file contains the following fields:__\n",
    "\n",
    "| Name    | Description |\n",
    "| -------- | ------- |\n",
    "| UID  | Unique ID of the owning application    |\n",
    "| DBType | Type of the Databse (MSSQL, MySQL, Oracle, DB2)     |\n",
    "| Instance    | The instance of the Ddtabase |\n",
    "| DBName | The name of the database |\n",
    "| Schema | The schema where the table os located in the database |\n",
    "| Table | The name of the table |\n",
    "| Column | The name of a single column |\n",
    "| ColumnType | The datatyp of the column |"
   ]
  },
  {
   "cell_type": "markdown",
   "metadata": {},
   "source": [
    "| DB | UID |    DBType | Instance |    DBName |      Schema |      Table |           Column |         ColumnType | \n",
    "| ----- | ----- |    ----- | ----- |    ----- |      ----- |      ----- |           ----- |         ----- | \n",
    "| __MSSQL__ | UID |    DBType | Instance |    DBName |      Schema |      Table |           Column |         ColumnType | \n",
    "| __Oracle__ | uid |   dbtype |   |           dbname |      owner |       table_name |      column_name |     data_type |\n",
    "| __MySQL__ | uid |    dbtype |    |          dbname |      owner |       table_name |      column_name |     data_type | \n",
    "| __FINAL COLUMN NAMES__ | UID | DB_TYPE | _droped_ | DB_NAME | SCHEMA |  TABLE_NAME | COLUMN_NAME | DATA-TYPE | "
   ]
  },
  {
   "cell_type": "code",
   "execution_count": 52,
   "metadata": {},
   "outputs": [
    {
     "name": "stderr",
     "output_type": "stream",
     "text": [
      "/opt/anaconda3/lib/python3.12/pty.py:95: DeprecationWarning: This process (pid=78949) is multi-threaded, use of forkpty() may lead to deadlocks in the child.\n",
      "  pid, fd = os.forkpty()\n"
     ]
    },
    {
     "name": "stdout",
     "output_type": "stream",
     "text": [
      "Requirement already satisfied: pyLDAvis in /opt/anaconda3/lib/python3.12/site-packages (3.4.1)\n",
      "Requirement already satisfied: numpy>=1.24.2 in /opt/anaconda3/lib/python3.12/site-packages (from pyLDAvis) (1.26.4)\n",
      "Requirement already satisfied: scipy in /opt/anaconda3/lib/python3.12/site-packages (from pyLDAvis) (1.13.1)\n",
      "Requirement already satisfied: pandas>=2.0.0 in /opt/anaconda3/lib/python3.12/site-packages (from pyLDAvis) (2.2.2)\n",
      "Requirement already satisfied: joblib>=1.2.0 in /opt/anaconda3/lib/python3.12/site-packages (from pyLDAvis) (1.4.2)\n",
      "Requirement already satisfied: jinja2 in /opt/anaconda3/lib/python3.12/site-packages (from pyLDAvis) (3.1.4)\n",
      "Requirement already satisfied: numexpr in /opt/anaconda3/lib/python3.12/site-packages (from pyLDAvis) (2.8.7)\n",
      "Requirement already satisfied: funcy in /opt/anaconda3/lib/python3.12/site-packages (from pyLDAvis) (2.0)\n",
      "Requirement already satisfied: scikit-learn>=1.0.0 in /opt/anaconda3/lib/python3.12/site-packages (from pyLDAvis) (1.5.1)\n",
      "Requirement already satisfied: gensim in /opt/anaconda3/lib/python3.12/site-packages (from pyLDAvis) (4.3.3)\n",
      "Requirement already satisfied: setuptools in /opt/anaconda3/lib/python3.12/site-packages (from pyLDAvis) (75.1.0)\n",
      "Requirement already satisfied: python-dateutil>=2.8.2 in /opt/anaconda3/lib/python3.12/site-packages (from pandas>=2.0.0->pyLDAvis) (2.9.0.post0)\n",
      "Requirement already satisfied: pytz>=2020.1 in /opt/anaconda3/lib/python3.12/site-packages (from pandas>=2.0.0->pyLDAvis) (2024.1)\n",
      "Requirement already satisfied: tzdata>=2022.7 in /opt/anaconda3/lib/python3.12/site-packages (from pandas>=2.0.0->pyLDAvis) (2023.3)\n",
      "Requirement already satisfied: threadpoolctl>=3.1.0 in /opt/anaconda3/lib/python3.12/site-packages (from scikit-learn>=1.0.0->pyLDAvis) (3.5.0)\n",
      "Requirement already satisfied: smart-open>=1.8.1 in /opt/anaconda3/lib/python3.12/site-packages (from gensim->pyLDAvis) (5.2.1)\n",
      "Requirement already satisfied: MarkupSafe>=2.0 in /opt/anaconda3/lib/python3.12/site-packages (from jinja2->pyLDAvis) (2.1.3)\n",
      "Requirement already satisfied: six>=1.5 in /opt/anaconda3/lib/python3.12/site-packages (from python-dateutil>=2.8.2->pandas>=2.0.0->pyLDAvis) (1.16.0)\n"
     ]
    },
    {
     "name": "stderr",
     "output_type": "stream",
     "text": [
      "/opt/anaconda3/lib/python3.12/pty.py:95: DeprecationWarning: This process (pid=78949) is multi-threaded, use of forkpty() may lead to deadlocks in the child.\n",
      "  pid, fd = os.forkpty()\n"
     ]
    },
    {
     "name": "stdout",
     "output_type": "stream",
     "text": [
      "Requirement already satisfied: wordninja in /opt/anaconda3/lib/python3.12/site-packages (2.0.0)\n"
     ]
    },
    {
     "name": "stderr",
     "output_type": "stream",
     "text": [
      "/opt/anaconda3/lib/python3.12/pty.py:95: DeprecationWarning: This process (pid=78949) is multi-threaded, use of forkpty() may lead to deadlocks in the child.\n",
      "  pid, fd = os.forkpty()\n"
     ]
    },
    {
     "name": "stdout",
     "output_type": "stream",
     "text": [
      "Requirement already satisfied: spacy in /opt/anaconda3/lib/python3.12/site-packages (3.8.3)\n",
      "Requirement already satisfied: spacy-legacy<3.1.0,>=3.0.11 in /opt/anaconda3/lib/python3.12/site-packages (from spacy) (3.0.12)\n",
      "Requirement already satisfied: spacy-loggers<2.0.0,>=1.0.0 in /opt/anaconda3/lib/python3.12/site-packages (from spacy) (1.0.5)\n",
      "Requirement already satisfied: murmurhash<1.1.0,>=0.28.0 in /opt/anaconda3/lib/python3.12/site-packages (from spacy) (1.0.11)\n",
      "Requirement already satisfied: cymem<2.1.0,>=2.0.2 in /opt/anaconda3/lib/python3.12/site-packages (from spacy) (2.0.10)\n",
      "Requirement already satisfied: preshed<3.1.0,>=3.0.2 in /opt/anaconda3/lib/python3.12/site-packages (from spacy) (3.0.9)\n",
      "Requirement already satisfied: thinc<8.4.0,>=8.3.0 in /opt/anaconda3/lib/python3.12/site-packages (from spacy) (8.3.3)\n",
      "Requirement already satisfied: wasabi<1.2.0,>=0.9.1 in /opt/anaconda3/lib/python3.12/site-packages (from spacy) (1.1.3)\n",
      "Requirement already satisfied: srsly<3.0.0,>=2.4.3 in /opt/anaconda3/lib/python3.12/site-packages (from spacy) (2.5.0)\n",
      "Requirement already satisfied: catalogue<2.1.0,>=2.0.6 in /opt/anaconda3/lib/python3.12/site-packages (from spacy) (2.0.10)\n",
      "Requirement already satisfied: weasel<0.5.0,>=0.1.0 in /opt/anaconda3/lib/python3.12/site-packages (from spacy) (0.4.1)\n",
      "Requirement already satisfied: typer<1.0.0,>=0.3.0 in /opt/anaconda3/lib/python3.12/site-packages (from spacy) (0.15.1)\n",
      "Requirement already satisfied: tqdm<5.0.0,>=4.38.0 in /opt/anaconda3/lib/python3.12/site-packages (from spacy) (4.66.5)\n",
      "Requirement already satisfied: numpy>=1.19.0 in /opt/anaconda3/lib/python3.12/site-packages (from spacy) (1.26.4)\n",
      "Requirement already satisfied: requests<3.0.0,>=2.13.0 in /opt/anaconda3/lib/python3.12/site-packages (from spacy) (2.32.3)\n",
      "Requirement already satisfied: pydantic!=1.8,!=1.8.1,<3.0.0,>=1.7.4 in /opt/anaconda3/lib/python3.12/site-packages (from spacy) (2.8.2)\n",
      "Requirement already satisfied: jinja2 in /opt/anaconda3/lib/python3.12/site-packages (from spacy) (3.1.4)\n",
      "Requirement already satisfied: setuptools in /opt/anaconda3/lib/python3.12/site-packages (from spacy) (75.1.0)\n",
      "Requirement already satisfied: packaging>=20.0 in /opt/anaconda3/lib/python3.12/site-packages (from spacy) (24.1)\n",
      "Requirement already satisfied: langcodes<4.0.0,>=3.2.0 in /opt/anaconda3/lib/python3.12/site-packages (from spacy) (3.5.0)\n",
      "Requirement already satisfied: language-data>=1.2 in /opt/anaconda3/lib/python3.12/site-packages (from langcodes<4.0.0,>=3.2.0->spacy) (1.3.0)\n",
      "Requirement already satisfied: annotated-types>=0.4.0 in /opt/anaconda3/lib/python3.12/site-packages (from pydantic!=1.8,!=1.8.1,<3.0.0,>=1.7.4->spacy) (0.6.0)\n",
      "Requirement already satisfied: pydantic-core==2.20.1 in /opt/anaconda3/lib/python3.12/site-packages (from pydantic!=1.8,!=1.8.1,<3.0.0,>=1.7.4->spacy) (2.20.1)\n",
      "Requirement already satisfied: typing-extensions>=4.6.1 in /opt/anaconda3/lib/python3.12/site-packages (from pydantic!=1.8,!=1.8.1,<3.0.0,>=1.7.4->spacy) (4.11.0)\n",
      "Requirement already satisfied: charset-normalizer<4,>=2 in /opt/anaconda3/lib/python3.12/site-packages (from requests<3.0.0,>=2.13.0->spacy) (3.3.2)\n",
      "Requirement already satisfied: idna<4,>=2.5 in /opt/anaconda3/lib/python3.12/site-packages (from requests<3.0.0,>=2.13.0->spacy) (3.7)\n",
      "Requirement already satisfied: urllib3<3,>=1.21.1 in /opt/anaconda3/lib/python3.12/site-packages (from requests<3.0.0,>=2.13.0->spacy) (2.2.3)\n",
      "Requirement already satisfied: certifi>=2017.4.17 in /opt/anaconda3/lib/python3.12/site-packages (from requests<3.0.0,>=2.13.0->spacy) (2024.8.30)\n",
      "Requirement already satisfied: blis<1.2.0,>=1.1.0 in /opt/anaconda3/lib/python3.12/site-packages (from thinc<8.4.0,>=8.3.0->spacy) (1.1.0)\n",
      "Requirement already satisfied: confection<1.0.0,>=0.0.1 in /opt/anaconda3/lib/python3.12/site-packages (from thinc<8.4.0,>=8.3.0->spacy) (0.1.5)\n",
      "Requirement already satisfied: click>=8.0.0 in /opt/anaconda3/lib/python3.12/site-packages (from typer<1.0.0,>=0.3.0->spacy) (8.1.7)\n",
      "Requirement already satisfied: shellingham>=1.3.0 in /opt/anaconda3/lib/python3.12/site-packages (from typer<1.0.0,>=0.3.0->spacy) (1.5.4)\n",
      "Requirement already satisfied: rich>=10.11.0 in /opt/anaconda3/lib/python3.12/site-packages (from typer<1.0.0,>=0.3.0->spacy) (13.7.1)\n",
      "Requirement already satisfied: cloudpathlib<1.0.0,>=0.7.0 in /opt/anaconda3/lib/python3.12/site-packages (from weasel<0.5.0,>=0.1.0->spacy) (0.20.0)\n",
      "Requirement already satisfied: smart-open<8.0.0,>=5.2.1 in /opt/anaconda3/lib/python3.12/site-packages (from weasel<0.5.0,>=0.1.0->spacy) (5.2.1)\n",
      "Requirement already satisfied: MarkupSafe>=2.0 in /opt/anaconda3/lib/python3.12/site-packages (from jinja2->spacy) (2.1.3)\n",
      "Requirement already satisfied: marisa-trie>=1.1.0 in /opt/anaconda3/lib/python3.12/site-packages (from language-data>=1.2->langcodes<4.0.0,>=3.2.0->spacy) (1.2.1)\n",
      "Requirement already satisfied: markdown-it-py>=2.2.0 in /opt/anaconda3/lib/python3.12/site-packages (from rich>=10.11.0->typer<1.0.0,>=0.3.0->spacy) (2.2.0)\n",
      "Requirement already satisfied: pygments<3.0.0,>=2.13.0 in /opt/anaconda3/lib/python3.12/site-packages (from rich>=10.11.0->typer<1.0.0,>=0.3.0->spacy) (2.15.1)\n",
      "Requirement already satisfied: mdurl~=0.1 in /opt/anaconda3/lib/python3.12/site-packages (from markdown-it-py>=2.2.0->rich>=10.11.0->typer<1.0.0,>=0.3.0->spacy) (0.1.0)\n"
     ]
    },
    {
     "name": "stderr",
     "output_type": "stream",
     "text": [
      "/opt/anaconda3/lib/python3.12/pty.py:95: DeprecationWarning: This process (pid=78949) is multi-threaded, use of forkpty() may lead to deadlocks in the child.\n",
      "  pid, fd = os.forkpty()\n"
     ]
    },
    {
     "name": "stdout",
     "output_type": "stream",
     "text": [
      "Requirement already satisfied: lingua-language-detector in /opt/anaconda3/lib/python3.12/site-packages (2.0.2)\n"
     ]
    }
   ],
   "source": [
    "!pip install pyLDAvis\n",
    "!pip install wordninja\n",
    "!pip install spacy\n",
    "!pip install lingua-language-detector"
   ]
  },
  {
   "cell_type": "markdown",
   "metadata": {},
   "source": [
    "# Prepare the data\n",
    "\n",
    "we have metadata about MSSQL, Oracle and MySQL Instances in CSV compressed in ZIP files - these CSVs must be merged into the same structure"
   ]
  },
  {
   "cell_type": "code",
   "execution_count": 53,
   "metadata": {},
   "outputs": [
    {
     "name": "stderr",
     "output_type": "stream",
     "text": [
      "/opt/anaconda3/lib/python3.12/pty.py:95: DeprecationWarning: This process (pid=78949) is multi-threaded, use of forkpty() may lead to deadlocks in the child.\n",
      "  pid, fd = os.forkpty()\n",
      "/opt/anaconda3/lib/python3.12/pty.py:95: DeprecationWarning: This process (pid=78949) is multi-threaded, use of forkpty() may lead to deadlocks in the child.\n",
      "  pid, fd = os.forkpty()\n"
     ]
    },
    {
     "name": "stdout",
     "output_type": "stream",
     "text": [
      "zsh:1: no matches found: data/*.txt\n"
     ]
    },
    {
     "name": "stderr",
     "output_type": "stream",
     "text": [
      "/opt/anaconda3/lib/python3.12/pty.py:95: DeprecationWarning: This process (pid=78949) is multi-threaded, use of forkpty() may lead to deadlocks in the child.\n",
      "  pid, fd = os.forkpty()\n"
     ]
    },
    {
     "name": "stdout",
     "output_type": "stream",
     "text": [
      "Archive:  data/german.zip\n",
      "  inflating: data/german.dic         "
     ]
    },
    {
     "name": "stderr",
     "output_type": "stream",
     "text": [
      "/opt/anaconda3/lib/python3.12/pty.py:95: DeprecationWarning: This process (pid=78949) is multi-threaded, use of forkpty() may lead to deadlocks in the child.\n",
      "  pid, fd = os.forkpty()\n"
     ]
    },
    {
     "name": "stdout",
     "output_type": "stream",
     "text": [
      "\n",
      "Archive:  data/mssql_allprod_collumns.zip\n",
      "  inflating: data/mssql_allprod_collumns.csv  "
     ]
    },
    {
     "name": "stderr",
     "output_type": "stream",
     "text": [
      "/opt/anaconda3/lib/python3.12/pty.py:95: DeprecationWarning: This process (pid=78949) is multi-threaded, use of forkpty() may lead to deadlocks in the child.\n",
      "  pid, fd = os.forkpty()\n"
     ]
    },
    {
     "name": "stdout",
     "output_type": "stream",
     "text": [
      "\n",
      "Archive:  data/oracle_metadata.zip\n",
      "  inflating: data/oracle_metadata.csv  "
     ]
    },
    {
     "name": "stderr",
     "output_type": "stream",
     "text": [
      "/opt/anaconda3/lib/python3.12/pty.py:95: DeprecationWarning: This process (pid=78949) is multi-threaded, use of forkpty() may lead to deadlocks in the child.\n",
      "  pid, fd = os.forkpty()\n"
     ]
    },
    {
     "name": "stdout",
     "output_type": "stream",
     "text": [
      "\n",
      "Archive:  data/mysql_metadata.zip\n",
      "  inflating: data/mysql_metadata.csv  \n"
     ]
    },
    {
     "name": "stderr",
     "output_type": "stream",
     "text": [
      "/opt/anaconda3/lib/python3.12/pty.py:95: DeprecationWarning: This process (pid=78949) is multi-threaded, use of forkpty() may lead to deadlocks in the child.\n",
      "  pid, fd = os.forkpty()\n"
     ]
    }
   ],
   "source": [
    "# remove the existing data files\n",
    "!rm -f data/*.csv  \n",
    "!rm -f data/*.dic\n",
    "!rm -f data/*.txt\n",
    "\n",
    "# extract the german dictory used for word splitting\n",
    "!unzip data/german.zip german.dic -d data\n",
    "\n",
    "# unzip the data files avialable\n",
    "!unzip -o data/mssql_allprod_collumns.zip -d data/\n",
    "!unzip -o data/oracle_metadata.zip -d data/\n",
    "!unzip -o data/mysql_metadata.zip -d data/"
   ]
  },
  {
   "cell_type": "code",
   "execution_count": 54,
   "metadata": {},
   "outputs": [
    {
     "name": "stdout",
     "output_type": "stream",
     "text": [
      "UID,DBType,Instance,DBName,Schema,Table,Column,ColumnType\n",
      "30230,MSSQL,R0015702\\RCHSCOMP02,OperationsManagerDW,State,StateHourly_D461F6AFA87B4259B908B29DA01EDE5C,InRedStateMilliseconds,int\n",
      "30230,MSSQL,R0015702\\RCHSCOMP02,OperationsManagerDW,State,StateHourly_D461F6AFA87B4259B908B29DA01EDE5C,InYellowStateMilliseconds,int\n",
      "The file data/mssql_allprod_collumns.csv has been processed and saved as data/mssql_allprod_collumns_no_third_column.csv.tmp\n",
      "The file data/mssql_allprod_collumns.csv has been processed, the third column has been removed:\n",
      "﻿UID,DBType,DBName,Schema,Table,Column,ColumnType\n",
      "30230,MSSQL,OperationsManagerDW,State,StateHourly_D461F6AFA87B4259B908B29DA01EDE5C,InRedStateMilliseconds,int\n",
      "30230,MSSQL,OperationsManagerDW,State,StateHourly_D461F6AFA87B4259B908B29DA01EDE5C,InYellowStateMilliseconds,int\n"
     ]
    }
   ],
   "source": [
    "%%bash\n",
    "# Prepare MSSQL data\n",
    "\n",
    "INPUT_FILE=\"data/mssql_allprod_collumns.csv\"\n",
    "OUTPUT_FILE=\"data/mssql_allprod_collumns_no_third_column.csv.tmp\"\n",
    "\n",
    "head -3 $INPUT_FILE\n",
    "\n",
    "# because the column separator is ',', we need to make sure e.g. `numeric(17,10)` is replaced with `numeric(17;10)` in the csv file\n",
    "sed -E 's/\\(([^)]*),([^)]*)\\)/(\\1;\\2)/g' ${INPUT_FILE} > ${OUTPUT_FILE}\n",
    "echo \"The file ${INPUT_FILE} has been processed and saved as ${OUTPUT_FILE}\"\n",
    "\n",
    "# drop the third column ('Instance') from the csv file (it does not exist in the other files)\n",
    "# Use awk to drop the third column\n",
    "awk -F, 'BEGIN {OFS=\",\"} { $3=\"\"; sub(\",,\", \",\"); print }' ${OUTPUT_FILE} > ${INPUT_FILE}\n",
    "\n",
    "rm ${OUTPUT_FILE}\n",
    "\n",
    "echo \"The file ${INPUT_FILE} has been processed, the third column has been removed:\"\n",
    "head -3 $INPUT_FILE"
   ]
  },
  {
   "cell_type": "code",
   "execution_count": 55,
   "metadata": {},
   "outputs": [],
   "source": [
    "%%bash\n",
    "# prepare Oracle data\n",
    "INPUT_FILE=\"data/oracle_metadata.csv\"\n",
    "OUTPUT_FILE=\"data/oracle_metadata.csv.tmp\"\n",
    "\n",
    "# the data of one table contains strange column names, remove its columns\n",
    "sed '/RFA772203/d' $INPUT_FILE > $OUTPUT_FILE\n",
    "\n",
    "mv $OUTPUT_FILE $INPUT_FILE\n",
    "rm -f $OUTPUT_FILE"
   ]
  },
  {
   "cell_type": "code",
   "execution_count": 56,
   "metadata": {},
   "outputs": [
    {
     "name": "stdout",
     "output_type": "stream",
     "text": [
      "Creating the dataset...\n"
     ]
    },
    {
     "name": "stdout",
     "output_type": "stream",
     "text": [
      "Creating a small dataset with 5000 records of each files\n",
      "new dataset contains    15000 data/db_metadata.csv\n"
     ]
    }
   ],
   "source": [
    "%%bash\n",
    "# create the dataset to use for the analysis\n",
    "\n",
    "# the number of records to use for each DB type, set to '-1' to use all records\n",
    "NR_OF_RECORDS_EACH=5000\n",
    "\n",
    "TARGET_FILE=\"data/db_metadata.csv\"\n",
    "echo \"Creating the dataset...\"\n",
    "\n",
    "# drop the first line (column names) from the files (except the one from MSSQL)\n",
    "tail -n +2 data/oracle_metadata.csv > data/oracle_metadata.csv.tmp\n",
    "tail -n +2 data/mysql_metadata.csv > data/mysql_metadata.csv.tmp\n",
    "\n",
    "mv data/oracle_metadata.csv.tmp data/oracle_metadata.csv\n",
    "mv data/mysql_metadata.csv.tmp data/mysql_metadata.csv\n",
    "\n",
    "if [ $NR_OF_RECORDS_EACH -gt 0 ]; then\n",
    "    echo \"Creating a small dataset with ${NR_OF_RECORDS_EACH} records of each files\"\n",
    "    head -${NR_OF_RECORDS_EACH} data/mssql_allprod_collumns.csv  >  ${TARGET_FILE}\n",
    "    head -${NR_OF_RECORDS_EACH} data/oracle_metadata.csv         >> ${TARGET_FILE}\n",
    "    head -${NR_OF_RECORDS_EACH} data/mysql_metadata.csv          >> ${TARGET_FILE}\n",
    "else\n",
    "    echo \"Creating a dataset with all records of each files\"\n",
    "    cat data/mssql_allprod_collumns.csv data/oracle_metadata.csv data/mysql_metadata.csv > ${TARGET_FILE}\n",
    "fi\n",
    "\n",
    "NR_OF_LINES=$(wc -l ${TARGET_FILE})\n",
    "echo \"new dataset contains ${NR_OF_LINES}\""
   ]
  },
  {
   "cell_type": "code",
   "execution_count": 57,
   "metadata": {},
   "outputs": [],
   "source": [
    "# Importing the required libraries\n",
    "import pandas as pd\n",
    "from sklearn.feature_extraction.text import TfidfVectorizer\n",
    "from sklearn.cluster import KMeans\n",
    "from sklearn.pipeline import Pipeline\n",
    "from sklearn.preprocessing import StandardScaler\n",
    "from sklearn.decomposition import LatentDirichletAllocation\n",
    "import wordninja\n",
    "# from nltk.corpus import stopwords"
   ]
  },
  {
   "cell_type": "code",
   "execution_count": 58,
   "metadata": {},
   "outputs": [
    {
     "data": {
      "text/html": [
       "<div>\n",
       "<style scoped>\n",
       "    .dataframe tbody tr th:only-of-type {\n",
       "        vertical-align: middle;\n",
       "    }\n",
       "\n",
       "    .dataframe tbody tr th {\n",
       "        vertical-align: top;\n",
       "    }\n",
       "\n",
       "    .dataframe thead th {\n",
       "        text-align: right;\n",
       "    }\n",
       "</style>\n",
       "<table border=\"1\" class=\"dataframe\">\n",
       "  <thead>\n",
       "    <tr style=\"text-align: right;\">\n",
       "      <th></th>\n",
       "      <th>UID</th>\n",
       "      <th>DBType</th>\n",
       "      <th>DBName</th>\n",
       "      <th>Schema</th>\n",
       "      <th>Table</th>\n",
       "      <th>Column</th>\n",
       "      <th>ColumnType</th>\n",
       "    </tr>\n",
       "  </thead>\n",
       "  <tbody>\n",
       "    <tr>\n",
       "      <th>0</th>\n",
       "      <td>30230</td>\n",
       "      <td>MSSQL</td>\n",
       "      <td>OperationsManagerDW</td>\n",
       "      <td>State</td>\n",
       "      <td>StateHourly_D461F6AFA87B4259B908B29DA01EDE5C</td>\n",
       "      <td>InRedStateMilliseconds</td>\n",
       "      <td>int</td>\n",
       "    </tr>\n",
       "    <tr>\n",
       "      <th>1</th>\n",
       "      <td>30230</td>\n",
       "      <td>MSSQL</td>\n",
       "      <td>OperationsManagerDW</td>\n",
       "      <td>State</td>\n",
       "      <td>StateHourly_D461F6AFA87B4259B908B29DA01EDE5C</td>\n",
       "      <td>InYellowStateMilliseconds</td>\n",
       "      <td>int</td>\n",
       "    </tr>\n",
       "    <tr>\n",
       "      <th>2</th>\n",
       "      <td>30230</td>\n",
       "      <td>MSSQL</td>\n",
       "      <td>OperationsManagerDW</td>\n",
       "      <td>State</td>\n",
       "      <td>StateHourly_D461F6AFA87B4259B908B29DA01EDE5C</td>\n",
       "      <td>InDisabledStateMilliseconds</td>\n",
       "      <td>int</td>\n",
       "    </tr>\n",
       "    <tr>\n",
       "      <th>3</th>\n",
       "      <td>30230</td>\n",
       "      <td>MSSQL</td>\n",
       "      <td>OperationsManagerDW</td>\n",
       "      <td>State</td>\n",
       "      <td>StateHourly_D461F6AFA87B4259B908B29DA01EDE5C</td>\n",
       "      <td>InPlannedMaintenanceMilliseconds</td>\n",
       "      <td>int</td>\n",
       "    </tr>\n",
       "    <tr>\n",
       "      <th>4</th>\n",
       "      <td>30230</td>\n",
       "      <td>MSSQL</td>\n",
       "      <td>OperationsManagerDW</td>\n",
       "      <td>State</td>\n",
       "      <td>StateHourly_D461F6AFA87B4259B908B29DA01EDE5C</td>\n",
       "      <td>InUnplannedMaintenanceMilliseconds</td>\n",
       "      <td>int</td>\n",
       "    </tr>\n",
       "  </tbody>\n",
       "</table>\n",
       "</div>"
      ],
      "text/plain": [
       "     UID DBType               DBName Schema  \\\n",
       "0  30230  MSSQL  OperationsManagerDW  State   \n",
       "1  30230  MSSQL  OperationsManagerDW  State   \n",
       "2  30230  MSSQL  OperationsManagerDW  State   \n",
       "3  30230  MSSQL  OperationsManagerDW  State   \n",
       "4  30230  MSSQL  OperationsManagerDW  State   \n",
       "\n",
       "                                          Table  \\\n",
       "0  StateHourly_D461F6AFA87B4259B908B29DA01EDE5C   \n",
       "1  StateHourly_D461F6AFA87B4259B908B29DA01EDE5C   \n",
       "2  StateHourly_D461F6AFA87B4259B908B29DA01EDE5C   \n",
       "3  StateHourly_D461F6AFA87B4259B908B29DA01EDE5C   \n",
       "4  StateHourly_D461F6AFA87B4259B908B29DA01EDE5C   \n",
       "\n",
       "                               Column ColumnType  \n",
       "0              InRedStateMilliseconds        int  \n",
       "1           InYellowStateMilliseconds        int  \n",
       "2         InDisabledStateMilliseconds        int  \n",
       "3    InPlannedMaintenanceMilliseconds        int  \n",
       "4  InUnplannedMaintenanceMilliseconds        int  "
      ]
     },
     "metadata": {},
     "output_type": "display_data"
    },
    {
     "data": {
      "text/html": [
       "<div>\n",
       "<style scoped>\n",
       "    .dataframe tbody tr th:only-of-type {\n",
       "        vertical-align: middle;\n",
       "    }\n",
       "\n",
       "    .dataframe tbody tr th {\n",
       "        vertical-align: top;\n",
       "    }\n",
       "\n",
       "    .dataframe thead th {\n",
       "        text-align: right;\n",
       "    }\n",
       "</style>\n",
       "<table border=\"1\" class=\"dataframe\">\n",
       "  <thead>\n",
       "    <tr style=\"text-align: right;\">\n",
       "      <th></th>\n",
       "      <th>UID</th>\n",
       "      <th>DB_TYPE</th>\n",
       "      <th>DB_NAME</th>\n",
       "      <th>SCHEMA</th>\n",
       "      <th>TABLE_NAME</th>\n",
       "      <th>COLUMN_NAME</th>\n",
       "      <th>DATA_TYPE</th>\n",
       "    </tr>\n",
       "  </thead>\n",
       "  <tbody>\n",
       "    <tr>\n",
       "      <th>0</th>\n",
       "      <td>30230</td>\n",
       "      <td>MSSQL</td>\n",
       "      <td>OperationsManagerDW</td>\n",
       "      <td>State</td>\n",
       "      <td>StateHourly_D461F6AFA87B4259B908B29DA01EDE5C</td>\n",
       "      <td>InRedStateMilliseconds</td>\n",
       "      <td>int</td>\n",
       "    </tr>\n",
       "    <tr>\n",
       "      <th>1</th>\n",
       "      <td>30230</td>\n",
       "      <td>MSSQL</td>\n",
       "      <td>OperationsManagerDW</td>\n",
       "      <td>State</td>\n",
       "      <td>StateHourly_D461F6AFA87B4259B908B29DA01EDE5C</td>\n",
       "      <td>InYellowStateMilliseconds</td>\n",
       "      <td>int</td>\n",
       "    </tr>\n",
       "    <tr>\n",
       "      <th>2</th>\n",
       "      <td>30230</td>\n",
       "      <td>MSSQL</td>\n",
       "      <td>OperationsManagerDW</td>\n",
       "      <td>State</td>\n",
       "      <td>StateHourly_D461F6AFA87B4259B908B29DA01EDE5C</td>\n",
       "      <td>InDisabledStateMilliseconds</td>\n",
       "      <td>int</td>\n",
       "    </tr>\n",
       "    <tr>\n",
       "      <th>3</th>\n",
       "      <td>30230</td>\n",
       "      <td>MSSQL</td>\n",
       "      <td>OperationsManagerDW</td>\n",
       "      <td>State</td>\n",
       "      <td>StateHourly_D461F6AFA87B4259B908B29DA01EDE5C</td>\n",
       "      <td>InPlannedMaintenanceMilliseconds</td>\n",
       "      <td>int</td>\n",
       "    </tr>\n",
       "    <tr>\n",
       "      <th>4</th>\n",
       "      <td>30230</td>\n",
       "      <td>MSSQL</td>\n",
       "      <td>OperationsManagerDW</td>\n",
       "      <td>State</td>\n",
       "      <td>StateHourly_D461F6AFA87B4259B908B29DA01EDE5C</td>\n",
       "      <td>InUnplannedMaintenanceMilliseconds</td>\n",
       "      <td>int</td>\n",
       "    </tr>\n",
       "  </tbody>\n",
       "</table>\n",
       "</div>"
      ],
      "text/plain": [
       "     UID DB_TYPE              DB_NAME SCHEMA  \\\n",
       "0  30230   MSSQL  OperationsManagerDW  State   \n",
       "1  30230   MSSQL  OperationsManagerDW  State   \n",
       "2  30230   MSSQL  OperationsManagerDW  State   \n",
       "3  30230   MSSQL  OperationsManagerDW  State   \n",
       "4  30230   MSSQL  OperationsManagerDW  State   \n",
       "\n",
       "                                     TABLE_NAME  \\\n",
       "0  StateHourly_D461F6AFA87B4259B908B29DA01EDE5C   \n",
       "1  StateHourly_D461F6AFA87B4259B908B29DA01EDE5C   \n",
       "2  StateHourly_D461F6AFA87B4259B908B29DA01EDE5C   \n",
       "3  StateHourly_D461F6AFA87B4259B908B29DA01EDE5C   \n",
       "4  StateHourly_D461F6AFA87B4259B908B29DA01EDE5C   \n",
       "\n",
       "                          COLUMN_NAME DATA_TYPE  \n",
       "0              InRedStateMilliseconds       int  \n",
       "1           InYellowStateMilliseconds       int  \n",
       "2         InDisabledStateMilliseconds       int  \n",
       "3    InPlannedMaintenanceMilliseconds       int  \n",
       "4  InUnplannedMaintenanceMilliseconds       int  "
      ]
     },
     "metadata": {},
     "output_type": "display_data"
    }
   ],
   "source": [
    "# Load the data\n",
    "df = pd.read_csv('data/db_metadata.csv')\n",
    "display(df.head())\n",
    "\n",
    "# for more flexibility when selecting the data file, we rename the columns to be the same for all\n",
    "new_column_names = {\n",
    "    df.columns[0]: 'UID',  \n",
    "    df.columns[1]: 'DB_TYPE',\n",
    "    df.columns[2]: 'DB_NAME',\n",
    "    df.columns[3]: 'SCHEMA',\n",
    "    df.columns[4]: 'TABLE_NAME',\n",
    "    df.columns[5]: 'COLUMN_NAME',\n",
    "    df.columns[6]: 'DATA_TYPE',\n",
    "}\n",
    "df.rename(columns=new_column_names, inplace=True)\n",
    "\n",
    "display(df.head())"
   ]
  },
  {
   "cell_type": "markdown",
   "metadata": {},
   "source": [
    "# Utilities"
   ]
  },
  {
   "cell_type": "code",
   "execution_count": 69,
   "metadata": {},
   "outputs": [],
   "source": [
    "from lingua import Language, LanguageDetectorBuilder\n",
    "\n",
    "# build a language detector to detect English and German\n",
    "langdetector = LanguageDetectorBuilder.from_languages(\n",
    "        Language.ENGLISH, \n",
    "        Language.GERMAN\n",
    "    ).build()\n",
    "\n",
    "# function to detect if a word is German\n",
    "def isGerman(word):\n",
    "    detected_lang = langdetector.detect_language_of(word)\n",
    "    if detected_lang == Language.GERMAN:\n",
    "        return True\n",
    "    else:\n",
    "        return False"
   ]
  },
  {
   "cell_type": "markdown",
   "metadata": {},
   "source": [
    "### Prepare the data"
   ]
  },
  {
   "cell_type": "code",
   "execution_count": 97,
   "metadata": {},
   "outputs": [],
   "source": [
    "# drop columns of known special tables (e.g. technical tables used by flyway, liquibase, quartz, jobrunr)\n",
    "df = df[~df['TABLE_NAME'].str.lower().str.contains('flyway') \n",
    "        & ~df['TABLE_NAME'].str.lower().str.contains('qrtz')\n",
    "        & ~df['TABLE_NAME'].str.lower().str.contains('shedlock')\n",
    "        & ~df['TABLE_NAME'].str.lower().str.contains('jobrunr')]\n",
    "df = df.drop(df[(df['TABLE_NAME'].str.lower() == 'databasechangelog') | (df['TABLE_NAME'].str.lower() == 'databasechangeloglock')].index)\n"
   ]
  },
  {
   "cell_type": "code",
   "execution_count": 98,
   "metadata": {},
   "outputs": [
    {
     "data": {
      "text/html": [
       "<div>\n",
       "<style scoped>\n",
       "    .dataframe tbody tr th:only-of-type {\n",
       "        vertical-align: middle;\n",
       "    }\n",
       "\n",
       "    .dataframe tbody tr th {\n",
       "        vertical-align: top;\n",
       "    }\n",
       "\n",
       "    .dataframe thead th {\n",
       "        text-align: right;\n",
       "    }\n",
       "</style>\n",
       "<table border=\"1\" class=\"dataframe\">\n",
       "  <thead>\n",
       "    <tr style=\"text-align: right;\">\n",
       "      <th></th>\n",
       "      <th>UID</th>\n",
       "      <th>DB_TYPE</th>\n",
       "      <th>DB_NAME</th>\n",
       "      <th>SCHEMA</th>\n",
       "      <th>TABLE_NAME</th>\n",
       "      <th>COLUMN_NAME</th>\n",
       "      <th>DATA_TYPE</th>\n",
       "      <th>DOCUMENT_CONTENT</th>\n",
       "    </tr>\n",
       "  </thead>\n",
       "  <tbody>\n",
       "    <tr>\n",
       "      <th>0</th>\n",
       "      <td>30230</td>\n",
       "      <td>MSSQL</td>\n",
       "      <td>OperationsManagerDW</td>\n",
       "      <td>State</td>\n",
       "      <td>StateHourly_D461F6AFA87B4259B908B29DA01EDE5C</td>\n",
       "      <td>InRedStateMilliseconds</td>\n",
       "      <td>int</td>\n",
       "      <td>red state milliseconds</td>\n",
       "    </tr>\n",
       "    <tr>\n",
       "      <th>1</th>\n",
       "      <td>30230</td>\n",
       "      <td>MSSQL</td>\n",
       "      <td>OperationsManagerDW</td>\n",
       "      <td>State</td>\n",
       "      <td>StateHourly_D461F6AFA87B4259B908B29DA01EDE5C</td>\n",
       "      <td>InYellowStateMilliseconds</td>\n",
       "      <td>int</td>\n",
       "      <td>yellow state milliseconds</td>\n",
       "    </tr>\n",
       "    <tr>\n",
       "      <th>2</th>\n",
       "      <td>30230</td>\n",
       "      <td>MSSQL</td>\n",
       "      <td>OperationsManagerDW</td>\n",
       "      <td>State</td>\n",
       "      <td>StateHourly_D461F6AFA87B4259B908B29DA01EDE5C</td>\n",
       "      <td>InDisabledStateMilliseconds</td>\n",
       "      <td>int</td>\n",
       "      <td>disabled state milliseconds</td>\n",
       "    </tr>\n",
       "    <tr>\n",
       "      <th>3</th>\n",
       "      <td>30230</td>\n",
       "      <td>MSSQL</td>\n",
       "      <td>OperationsManagerDW</td>\n",
       "      <td>State</td>\n",
       "      <td>StateHourly_D461F6AFA87B4259B908B29DA01EDE5C</td>\n",
       "      <td>InPlannedMaintenanceMilliseconds</td>\n",
       "      <td>int</td>\n",
       "      <td>planned maintenance milliseconds</td>\n",
       "    </tr>\n",
       "    <tr>\n",
       "      <th>4</th>\n",
       "      <td>30230</td>\n",
       "      <td>MSSQL</td>\n",
       "      <td>OperationsManagerDW</td>\n",
       "      <td>State</td>\n",
       "      <td>StateHourly_D461F6AFA87B4259B908B29DA01EDE5C</td>\n",
       "      <td>InUnplannedMaintenanceMilliseconds</td>\n",
       "      <td>int</td>\n",
       "      <td>unplanned maintenance milliseconds</td>\n",
       "    </tr>\n",
       "  </tbody>\n",
       "</table>\n",
       "</div>"
      ],
      "text/plain": [
       "     UID DB_TYPE              DB_NAME SCHEMA  \\\n",
       "0  30230   MSSQL  OperationsManagerDW  State   \n",
       "1  30230   MSSQL  OperationsManagerDW  State   \n",
       "2  30230   MSSQL  OperationsManagerDW  State   \n",
       "3  30230   MSSQL  OperationsManagerDW  State   \n",
       "4  30230   MSSQL  OperationsManagerDW  State   \n",
       "\n",
       "                                     TABLE_NAME  \\\n",
       "0  StateHourly_D461F6AFA87B4259B908B29DA01EDE5C   \n",
       "1  StateHourly_D461F6AFA87B4259B908B29DA01EDE5C   \n",
       "2  StateHourly_D461F6AFA87B4259B908B29DA01EDE5C   \n",
       "3  StateHourly_D461F6AFA87B4259B908B29DA01EDE5C   \n",
       "4  StateHourly_D461F6AFA87B4259B908B29DA01EDE5C   \n",
       "\n",
       "                          COLUMN_NAME DATA_TYPE  \\\n",
       "0              InRedStateMilliseconds       int   \n",
       "1           InYellowStateMilliseconds       int   \n",
       "2         InDisabledStateMilliseconds       int   \n",
       "3    InPlannedMaintenanceMilliseconds       int   \n",
       "4  InUnplannedMaintenanceMilliseconds       int   \n",
       "\n",
       "                     DOCUMENT_CONTENT  \n",
       "0              red state milliseconds  \n",
       "1           yellow state milliseconds  \n",
       "2         disabled state milliseconds  \n",
       "3    planned maintenance milliseconds  \n",
       "4  unplanned maintenance milliseconds  "
      ]
     },
     "metadata": {},
     "output_type": "display_data"
    }
   ],
   "source": [
    "display(df.head())"
   ]
  },
  {
   "cell_type": "code",
   "execution_count": 102,
   "metadata": {},
   "outputs": [],
   "source": [
    "\n",
    "# function to split a string into words and filter out short words (less than 4 characters) and numbers\n",
    "def splitToWordsAndFilter(x):\n",
    "    if pd.notnull(x) and x:\n",
    "        if isGerman(x):\n",
    "            # currrntly we don't have a German word-splitter, so we at least use the underscore to split the words\n",
    "            words = x.split('_')\n",
    "        else:\n",
    "            words = wordninja.split(x)\n",
    "        return ' '.join([word.lower() for word in words if len(word) > 3 and not word.isdigit()])\n",
    "    return ''\n",
    "\n",
    "# split the column names \n",
    "df['DOCUMENT_CONTENT'] = df['COLUMN_NAME'].apply(\n",
    "    lambda x: splitToWordsAndFilter(x)\n",
    ")\n",
    "\n",
    "# - Concatenate 'COLUMN_NAME' values for rows with the same 'DB_NAME'/'TABLE_NAME' combination\n",
    "# - lowercase the text\n",
    "df_grouped = df.groupby(['UID', 'DB_TYPE', 'DB_NAME', 'TABLE_NAME'])['DOCUMENT_CONTENT'].agg(\n",
    "    lambda x: ' '.join(x.str.lower())\n",
    ").reset_index()\n",
    "\n",
    "\n",
    "df_grouped['TABLE_NAME_CONTENT'] = df_grouped['TABLE_NAME'].apply(\n",
    "    # don't fail if resulting string is empty\n",
    "    lambda x: splitToWordsAndFilter(x)\n",
    ")\n",
    "\n",
    "df_grouped['DOCUMENT_CONTENT'] = df_grouped['TABLE_NAME_CONTENT'] + ' ' + df_grouped['DOCUMENT_CONTENT']\n"
   ]
  },
  {
   "cell_type": "code",
   "execution_count": 103,
   "metadata": {},
   "outputs": [
    {
     "data": {
      "text/html": [
       "<div>\n",
       "<style scoped>\n",
       "    .dataframe tbody tr th:only-of-type {\n",
       "        vertical-align: middle;\n",
       "    }\n",
       "\n",
       "    .dataframe tbody tr th {\n",
       "        vertical-align: top;\n",
       "    }\n",
       "\n",
       "    .dataframe thead th {\n",
       "        text-align: right;\n",
       "    }\n",
       "</style>\n",
       "<table border=\"1\" class=\"dataframe\">\n",
       "  <thead>\n",
       "    <tr style=\"text-align: right;\">\n",
       "      <th></th>\n",
       "      <th>UID</th>\n",
       "      <th>DB_TYPE</th>\n",
       "      <th>DB_NAME</th>\n",
       "      <th>TABLE_NAME</th>\n",
       "      <th>DOCUMENT_CONTENT</th>\n",
       "      <th>TABLE_NAME_CONTENT</th>\n",
       "    </tr>\n",
       "  </thead>\n",
       "  <tbody>\n",
       "    <tr>\n",
       "      <th>0</th>\n",
       "      <td>100</td>\n",
       "      <td>Oracle</td>\n",
       "      <td>PCRMA01</td>\n",
       "      <td>ADVISORYOUTPUT_2</td>\n",
       "      <td>advisory output financial analysis  modified m...</td>\n",
       "      <td>advisory output</td>\n",
       "    </tr>\n",
       "    <tr>\n",
       "      <th>1</th>\n",
       "      <td>100</td>\n",
       "      <td>Oracle</td>\n",
       "      <td>PCRMA01</td>\n",
       "      <td>BAK_PRICING_2</td>\n",
       "      <td>pricing deleted frozen   modified modifieddate...</td>\n",
       "      <td>pricing</td>\n",
       "    </tr>\n",
       "    <tr>\n",
       "      <th>2</th>\n",
       "      <td>100</td>\n",
       "      <td>Oracle</td>\n",
       "      <td>PCRMA01</td>\n",
       "      <td>CMZKE_KUNDE</td>\n",
       "      <td>cmzke kunde changed changed created created do...</td>\n",
       "      <td>cmzke kunde</td>\n",
       "    </tr>\n",
       "    <tr>\n",
       "      <th>3</th>\n",
       "      <td>100</td>\n",
       "      <td>Oracle</td>\n",
       "      <td>PCRMA01</td>\n",
       "      <td>CREDITWORTHINESSINDICATORS_2</td>\n",
       "      <td>credit worthiness indicators  modified modifie...</td>\n",
       "      <td>credit worthiness indicators</td>\n",
       "    </tr>\n",
       "    <tr>\n",
       "      <th>4</th>\n",
       "      <td>100</td>\n",
       "      <td>Oracle</td>\n",
       "      <td>PCRMA01</td>\n",
       "      <td>DEBTCAPACITY_IFBC_2</td>\n",
       "      <td>debt capacity financial analysis  modified mod...</td>\n",
       "      <td>debt capacity</td>\n",
       "    </tr>\n",
       "  </tbody>\n",
       "</table>\n",
       "</div>"
      ],
      "text/plain": [
       "   UID DB_TYPE  DB_NAME                    TABLE_NAME  \\\n",
       "0  100  Oracle  PCRMA01              ADVISORYOUTPUT_2   \n",
       "1  100  Oracle  PCRMA01                 BAK_PRICING_2   \n",
       "2  100  Oracle  PCRMA01                   CMZKE_KUNDE   \n",
       "3  100  Oracle  PCRMA01  CREDITWORTHINESSINDICATORS_2   \n",
       "4  100  Oracle  PCRMA01           DEBTCAPACITY_IFBC_2   \n",
       "\n",
       "                                    DOCUMENT_CONTENT  \\\n",
       "0  advisory output financial analysis  modified m...   \n",
       "1  pricing deleted frozen   modified modifieddate...   \n",
       "2  cmzke kunde changed changed created created do...   \n",
       "3  credit worthiness indicators  modified modifie...   \n",
       "4  debt capacity financial analysis  modified mod...   \n",
       "\n",
       "             TABLE_NAME_CONTENT  \n",
       "0               advisory output  \n",
       "1                       pricing  \n",
       "2                   cmzke kunde  \n",
       "3  credit worthiness indicators  \n",
       "4                 debt capacity  "
      ]
     },
     "metadata": {},
     "output_type": "display_data"
    }
   ],
   "source": [
    "display(df_grouped.head())"
   ]
  },
  {
   "cell_type": "code",
   "execution_count": 104,
   "metadata": {},
   "outputs": [],
   "source": [
    "# write a CSV with the table names and their split names\n",
    "df_grouped[['TABLE_NAME', 'TABLE_NAME_CONTENT']].to_csv('table_name_content.csv', index=False)"
   ]
  },
  {
   "cell_type": "markdown",
   "metadata": {},
   "source": [
    "### Calculate TF-IDF"
   ]
  },
  {
   "cell_type": "code",
   "execution_count": 105,
   "metadata": {},
   "outputs": [
    {
     "name": "stdout",
     "output_type": "stream",
     "text": [
      "899\n"
     ]
    }
   ],
   "source": [
    "from spacy.lang.de.stop_words import STOP_WORDS as de_stop\n",
    "from spacy.lang.en.stop_words import STOP_WORDS as en_stop\n",
    "\n",
    "# some custom stop words\n",
    "custom_stop_words = ['item', 'name', 'type', 'code', 'id', 'key', 'value', 'date', 'time', 'status', 'flag', 'description', 'comment', 'number', 'size', 'length', 'version', 'order', 'count', 'level', 'class', 'group', 'status', 'state', 'row', 'str', 'vid', 'ext', 'set', 'rid']\n",
    "\n",
    "# we have english and german words in the data set, so combine the stop words of both languages\n",
    "final_stopwords_list = list(de_stop) + list(en_stop) + custom_stop_words\n",
    "\n",
    "print(len(final_stopwords_list))"
   ]
  },
  {
   "cell_type": "markdown",
   "metadata": {},
   "source": [
    "TODO:\n",
    "- ~~also remove all numbers from the text~~\n",
    "- ~~lowercase the text~~\n",
    "- ~~add table name to DOCUMENT_CONTENT~~\n",
    "- ~~german vs english~~\n",
    "~~'CMZKE_KUNDE' -> KUN, should be: KUNDE~~\n",
    "- german to english translation\n",
    "- lemmatizing ([germalemma](https://github.com/WZBSocialScienceCenter/germalemma))"
   ]
  },
  {
   "cell_type": "code",
   "execution_count": 106,
   "metadata": {},
   "outputs": [
    {
     "name": "stdout",
     "output_type": "stream",
     "text": [
      "(1401, 763)\n"
     ]
    },
    {
     "name": "stderr",
     "output_type": "stream",
     "text": [
      "/opt/anaconda3/lib/python3.12/site-packages/sklearn/feature_extraction/text.py:406: UserWarning: Your stop_words may be inconsistent with your preprocessing. Tokenizing the stop words generated tokens ['ll', 've'] not in stop_words.\n",
      "  warnings.warn(\n"
     ]
    }
   ],
   "source": [
    "\n",
    "# Create a document-term matrix using TF-IDF\n",
    "vectorizer = TfidfVectorizer(stop_words=final_stopwords_list, min_df=4, max_df=0.75, max_features=5000)\n",
    "doc_term_matrix = vectorizer.fit_transform(df_grouped['DOCUMENT_CONTENT'].values)\n",
    "\n",
    "print(doc_term_matrix.shape)"
   ]
  },
  {
   "cell_type": "code",
   "execution_count": 107,
   "metadata": {},
   "outputs": [
    {
     "data": {
      "text/html": [
       "<div>\n",
       "<style scoped>\n",
       "    .dataframe tbody tr th:only-of-type {\n",
       "        vertical-align: middle;\n",
       "    }\n",
       "\n",
       "    .dataframe tbody tr th {\n",
       "        vertical-align: top;\n",
       "    }\n",
       "\n",
       "    .dataframe thead th {\n",
       "        text-align: right;\n",
       "    }\n",
       "</style>\n",
       "<table border=\"1\" class=\"dataframe\">\n",
       "  <thead>\n",
       "    <tr style=\"text-align: right;\">\n",
       "      <th></th>\n",
       "      <th>Cluster0</th>\n",
       "      <th>Cluster1</th>\n",
       "      <th>Cluster2</th>\n",
       "      <th>Cluster3</th>\n",
       "      <th>Cluster4</th>\n",
       "    </tr>\n",
       "  </thead>\n",
       "  <tbody>\n",
       "    <tr>\n",
       "      <th>0</th>\n",
       "      <td>0.055642</td>\n",
       "      <td>0.056213</td>\n",
       "      <td>0.776780</td>\n",
       "      <td>0.055633</td>\n",
       "      <td>0.055732</td>\n",
       "    </tr>\n",
       "    <tr>\n",
       "      <th>1</th>\n",
       "      <td>0.059022</td>\n",
       "      <td>0.059827</td>\n",
       "      <td>0.762994</td>\n",
       "      <td>0.058986</td>\n",
       "      <td>0.059172</td>\n",
       "    </tr>\n",
       "    <tr>\n",
       "      <th>2</th>\n",
       "      <td>0.069716</td>\n",
       "      <td>0.071164</td>\n",
       "      <td>0.699396</td>\n",
       "      <td>0.089533</td>\n",
       "      <td>0.070191</td>\n",
       "    </tr>\n",
       "    <tr>\n",
       "      <th>3</th>\n",
       "      <td>0.059200</td>\n",
       "      <td>0.059796</td>\n",
       "      <td>0.763576</td>\n",
       "      <td>0.058651</td>\n",
       "      <td>0.058777</td>\n",
       "    </tr>\n",
       "    <tr>\n",
       "      <th>4</th>\n",
       "      <td>0.053063</td>\n",
       "      <td>0.053767</td>\n",
       "      <td>0.787261</td>\n",
       "      <td>0.052914</td>\n",
       "      <td>0.052996</td>\n",
       "    </tr>\n",
       "  </tbody>\n",
       "</table>\n",
       "</div>"
      ],
      "text/plain": [
       "   Cluster0  Cluster1  Cluster2  Cluster3  Cluster4\n",
       "0  0.055642  0.056213  0.776780  0.055633  0.055732\n",
       "1  0.059022  0.059827  0.762994  0.058986  0.059172\n",
       "2  0.069716  0.071164  0.699396  0.089533  0.070191\n",
       "3  0.059200  0.059796  0.763576  0.058651  0.058777\n",
       "4  0.053063  0.053767  0.787261  0.052914  0.052996"
      ]
     },
     "metadata": {},
     "output_type": "display_data"
    }
   ],
   "source": [
    "num_clusters = 5\n",
    "\n",
    "lda = LatentDirichletAllocation(n_components=num_clusters, learning_method='online', random_state=42)\n",
    "doc_cluster_matrix = lda.fit_transform(doc_term_matrix)\n",
    "\n",
    "col_names = ['Cluster' + str(i) for i in range(num_clusters)]\n",
    "\n",
    "doc_cluster_df = pd.DataFrame(doc_cluster_matrix, columns=col_names)\n",
    "display(doc_cluster_df.head()) \n"
   ]
  },
  {
   "cell_type": "code",
   "execution_count": 108,
   "metadata": {},
   "outputs": [
    {
     "name": "stderr",
     "output_type": "stream",
     "text": [
      "/opt/anaconda3/lib/python3.12/site-packages/joblib/externals/loky/backend/fork_exec.py:38: DeprecationWarning: This process (pid=78949) is multi-threaded, use of fork() may lead to deadlocks in the child.\n",
      "  pid = os.fork()\n",
      "/opt/anaconda3/lib/python3.12/site-packages/joblib/externals/loky/backend/fork_exec.py:38: DeprecationWarning: This process (pid=78949) is multi-threaded, use of fork() may lead to deadlocks in the child.\n",
      "  pid = os.fork()\n",
      "/opt/anaconda3/lib/python3.12/site-packages/joblib/externals/loky/backend/fork_exec.py:38: DeprecationWarning: This process (pid=78949) is multi-threaded, use of fork() may lead to deadlocks in the child.\n",
      "  pid = os.fork()\n",
      "/opt/anaconda3/lib/python3.12/site-packages/joblib/externals/loky/backend/fork_exec.py:38: DeprecationWarning: This process (pid=78949) is multi-threaded, use of fork() may lead to deadlocks in the child.\n",
      "  pid = os.fork()\n",
      "/opt/anaconda3/lib/python3.12/site-packages/joblib/externals/loky/backend/fork_exec.py:38: DeprecationWarning: This process (pid=78949) is multi-threaded, use of fork() may lead to deadlocks in the child.\n",
      "  pid = os.fork()\n",
      "/opt/anaconda3/lib/python3.12/site-packages/joblib/externals/loky/backend/fork_exec.py:38: DeprecationWarning: This process (pid=78949) is multi-threaded, use of fork() may lead to deadlocks in the child.\n",
      "  pid = os.fork()\n",
      "/opt/anaconda3/lib/python3.12/site-packages/joblib/externals/loky/backend/fork_exec.py:38: DeprecationWarning: This process (pid=78949) is multi-threaded, use of fork() may lead to deadlocks in the child.\n",
      "  pid = os.fork()\n",
      "/opt/anaconda3/lib/python3.12/site-packages/joblib/externals/loky/backend/fork_exec.py:38: DeprecationWarning: This process (pid=78949) is multi-threaded, use of fork() may lead to deadlocks in the child.\n",
      "  pid = os.fork()\n",
      "/opt/anaconda3/lib/python3.12/site-packages/joblib/externals/loky/backend/fork_exec.py:38: DeprecationWarning: This process (pid=78949) is multi-threaded, use of fork() may lead to deadlocks in the child.\n",
      "  pid = os.fork()\n",
      "/opt/anaconda3/lib/python3.12/site-packages/joblib/externals/loky/backend/fork_exec.py:38: DeprecationWarning: This process (pid=78949) is multi-threaded, use of fork() may lead to deadlocks in the child.\n",
      "  pid = os.fork()\n",
      "/opt/anaconda3/lib/python3.12/site-packages/joblib/externals/loky/backend/fork_exec.py:38: DeprecationWarning: This process (pid=78949) is multi-threaded, use of fork() may lead to deadlocks in the child.\n",
      "  pid = os.fork()\n",
      "/opt/anaconda3/lib/python3.12/site-packages/joblib/externals/loky/backend/fork_exec.py:38: DeprecationWarning: This process (pid=78949) is multi-threaded, use of fork() may lead to deadlocks in the child.\n",
      "  pid = os.fork()\n"
     ]
    },
    {
     "name": "stdout",
     "output_type": "stream",
     "text": [
      "Topic1\n",
      "['element' 'milliseconds' 'product' 'pruefperson' 'quantity' 'message'\n",
      " 'rate' 'price' 'account' 'alias' 'bank' 'data' 'scope' 'access'\n",
      " 'position' 'request' 'execution' 'pwc01' 'device' 'contract'\n",
      " 'bezeichnung' 'property' 'reference' 'currency' 'interval' 'arrangement'\n",
      " 'maintenance' 'configuration' 'health' 'valid']\n",
      "\n",
      "Topic2\n",
      "['created' 'user' 'object' 'modified' 'host' 'lock' 'file' 'attribute'\n",
      " 'entity' 'data' 'resource' 'fact' 'content' 'audit' 'elementvalue'\n",
      " 'elementname' 'text' 'rule' 'active' 'timestamp' 'definition'\n",
      " 'lastmodifieddate' 'intflags' 'work' 'token' 'session' 'entry' 'document'\n",
      " 'username' 'lifecycle']\n",
      "\n",
      "Topic3\n",
      "['updated' 'data' 'partner' 'partition' 'datum' 'dtdate' 'service'\n",
      " 'source' 'valid' 'rest' 'modifieddate' 'created' 'dates' 'aggregation'\n",
      " 'modified' 'virtual' 'relationship' 'deletion' 'touched' 'xdateinserted'\n",
      " 'inserted' 'marked' 'xmldata' 'active' 'book' 'server' 'calculated'\n",
      " 'corder' 'nachfolger' 'pruefperson']\n",
      "\n",
      "Topic4\n",
      "['event' 'lifecycle' 'asset' 'display' 'client' 'sitzcode' 'string' 'base'\n",
      " 'notes' 'label' 'object' 'change' 'sync' 'received' 'world' 'activity'\n",
      " 'check' 'limit' 'managed' 'field' 'subscription' 'entity' 'query'\n",
      " 'principal' 'data' 'settings' 'certificate' 'start' 'total' 'loan']\n",
      "\n",
      "Topic5\n",
      "['person' 'land' 'category' 'country' 'utl90' 'erstellt' 'geaendert'\n",
      " 'prue' 'object' 'user' 'untersuchungsdaten' 'lifecycle' 'parent' 'digest'\n",
      " 'parameter' 'tags' 'vorname' 'pruefliste' 'gender' 'language'\n",
      " 'importdigest' 'risklevel' 'filterbitmask' 'partner' 'street'\n",
      " 'sanctioned' 'hist' 'keyword' 'bemerkung' 'resp']\n",
      "\n",
      "Panel saved to panel.html\n"
     ]
    }
   ],
   "source": [
    "#Visualize and analyze reuslts\n",
    "import pyLDAvis\n",
    "import pyLDAvis.lda_model\n",
    "\n",
    "prepared_data = pyLDAvis.lda_model.prepare(lda, doc_term_matrix, vectorizer, mds='tsne', sort_topics=False, n_jobs = -1)\n",
    "word_info = prepared_data.topic_info\n",
    "\n",
    "#Print top 30 keywords\n",
    "for topic in word_info.loc[word_info.Category != 'Default'].Category.unique():\n",
    "    print(topic)\n",
    "    print(word_info.loc[word_info.Category.isin([topic])].sort_values('logprob', ascending = False).Term.values[:30])\n",
    "    print()\n",
    "\n",
    "#To save prepared_data in an html panel (using https://panel.holoviz.org/)\n",
    "pyLDAvis.save_html(prepared_data, 'panel.html')\n",
    "print(\"Panel saved to panel.html\")"
   ]
  }
 ],
 "metadata": {
  "kernelspec": {
   "display_name": "base",
   "language": "python",
   "name": "python3"
  },
  "language_info": {
   "codemirror_mode": {
    "name": "ipython",
    "version": 3
   },
   "file_extension": ".py",
   "mimetype": "text/x-python",
   "name": "python",
   "nbconvert_exporter": "python",
   "pygments_lexer": "ipython3",
   "version": "3.12.7"
  }
 },
 "nbformat": 4,
 "nbformat_minor": 2
}
